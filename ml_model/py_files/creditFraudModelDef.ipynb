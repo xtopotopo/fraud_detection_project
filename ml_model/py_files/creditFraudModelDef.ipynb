{
 "cells": [
  {
   "cell_type": "code",
   "execution_count": 5,
   "id": "bd578fb7-601c-46f1-9bc7-ab0831383b35",
   "metadata": {},
   "outputs": [],
   "source": [
    "import pandas as pd\n",
    "import numpy as np\n",
    "import joblib as jb\n",
    "import seaborn as sns \n",
    "import xgboost as xgb\n",
    "from matplotlib import pyplot as plt\n",
    "from sklearn.pipeline import Pipeline\n",
    "from imblearn.over_sampling import SVMSMOTE\n",
    "from sklearn.compose import ColumnTransformer\n",
    "from sklearn.inspection import permutation_importance\n",
    "from sklearn.preprocessing import StandardScaler,OneHotEncoder\n",
    "from sklearn.model_selection import train_test_split,GridSearchCV\n",
    "from sklearn.metrics import f1_score, classification_report, confusion_matrix"
   ]
  },
  {
   "cell_type": "code",
   "execution_count": 6,
   "id": "8e4fbeea-7793-44db-bfe9-2c818b4ee62a",
   "metadata": {},
   "outputs": [
    {
     "data": {
      "text/html": [
       "<div>\n",
       "<style scoped>\n",
       "    .dataframe tbody tr th:only-of-type {\n",
       "        vertical-align: middle;\n",
       "    }\n",
       "\n",
       "    .dataframe tbody tr th {\n",
       "        vertical-align: top;\n",
       "    }\n",
       "\n",
       "    .dataframe thead th {\n",
       "        text-align: right;\n",
       "    }\n",
       "</style>\n",
       "<table border=\"1\" class=\"dataframe\">\n",
       "  <thead>\n",
       "    <tr style=\"text-align: right;\">\n",
       "      <th></th>\n",
       "      <th>step</th>\n",
       "      <th>type</th>\n",
       "      <th>amount</th>\n",
       "      <th>nameOrig</th>\n",
       "      <th>oldbalanceOrg</th>\n",
       "      <th>newbalanceOrig</th>\n",
       "      <th>nameDest</th>\n",
       "      <th>oldbalanceDest</th>\n",
       "      <th>newbalanceDest</th>\n",
       "      <th>isFraud</th>\n",
       "      <th>isFlaggedFraud</th>\n",
       "    </tr>\n",
       "  </thead>\n",
       "  <tbody>\n",
       "    <tr>\n",
       "      <th>0</th>\n",
       "      <td>1</td>\n",
       "      <td>PAYMENT</td>\n",
       "      <td>9839.64</td>\n",
       "      <td>C1231006815</td>\n",
       "      <td>170136.0</td>\n",
       "      <td>160296.36</td>\n",
       "      <td>M1979787155</td>\n",
       "      <td>0.0</td>\n",
       "      <td>0.0</td>\n",
       "      <td>0</td>\n",
       "      <td>0</td>\n",
       "    </tr>\n",
       "    <tr>\n",
       "      <th>1</th>\n",
       "      <td>1</td>\n",
       "      <td>PAYMENT</td>\n",
       "      <td>1864.28</td>\n",
       "      <td>C1666544295</td>\n",
       "      <td>21249.0</td>\n",
       "      <td>19384.72</td>\n",
       "      <td>M2044282225</td>\n",
       "      <td>0.0</td>\n",
       "      <td>0.0</td>\n",
       "      <td>0</td>\n",
       "      <td>0</td>\n",
       "    </tr>\n",
       "    <tr>\n",
       "      <th>2</th>\n",
       "      <td>1</td>\n",
       "      <td>TRANSFER</td>\n",
       "      <td>181.00</td>\n",
       "      <td>C1305486145</td>\n",
       "      <td>181.0</td>\n",
       "      <td>0.00</td>\n",
       "      <td>C553264065</td>\n",
       "      <td>0.0</td>\n",
       "      <td>0.0</td>\n",
       "      <td>1</td>\n",
       "      <td>0</td>\n",
       "    </tr>\n",
       "  </tbody>\n",
       "</table>\n",
       "</div>"
      ],
      "text/plain": [
       "   step      type   amount     nameOrig  oldbalanceOrg  newbalanceOrig  \\\n",
       "0     1   PAYMENT  9839.64  C1231006815       170136.0       160296.36   \n",
       "1     1   PAYMENT  1864.28  C1666544295        21249.0        19384.72   \n",
       "2     1  TRANSFER   181.00  C1305486145          181.0            0.00   \n",
       "\n",
       "      nameDest  oldbalanceDest  newbalanceDest  isFraud  isFlaggedFraud  \n",
       "0  M1979787155             0.0             0.0        0               0  \n",
       "1  M2044282225             0.0             0.0        0               0  \n",
       "2   C553264065             0.0             0.0        1               0  "
      ]
     },
     "execution_count": 6,
     "metadata": {},
     "output_type": "execute_result"
    }
   ],
   "source": [
    "df=pd.read_csv('../csv_files/creditFraud.csv')\n",
    "df.head(3)"
   ]
  },
  {
   "cell_type": "code",
   "execution_count": 7,
   "id": "861c6850-8810-4897-a44a-b626154d273d",
   "metadata": {},
   "outputs": [
    {
     "data": {
      "text/plain": [
       "isFraud\n",
       "0    6354407\n",
       "1       8213\n",
       "Name: count, dtype: int64"
      ]
     },
     "execution_count": 7,
     "metadata": {},
     "output_type": "execute_result"
    }
   ],
   "source": [
    "df['isFraud'].value_counts()"
   ]
  },
  {
   "cell_type": "code",
   "execution_count": null,
   "id": "6b01ab34-5162-4181-89fc-f3f7dffe98ff",
   "metadata": {},
   "outputs": [],
   "source": []
  },
  {
   "cell_type": "code",
   "execution_count": 8,
   "id": "04c1824f-2f96-4f26-98ca-71433ba34aa9",
   "metadata": {},
   "outputs": [
    {
     "data": {
      "text/plain": [
       "isFraud\n",
       "0    16000\n",
       "1     8213\n",
       "Name: count, dtype: int64"
      ]
     },
     "execution_count": 8,
     "metadata": {},
     "output_type": "execute_result"
    }
   ],
   "source": [
    "fraud_data_count=df['isFraud'].value_counts()[0]\n",
    "\n",
    "non_fraud_data=df[df['isFraud']==0] \n",
    "fraud_data=df[df['isFraud']==1]\n",
    "\n",
    "non_fraud_reduced=non_fraud_data.sample(frac=(16000/fraud_data_count),random_state=1)\n",
    "\n",
    "df_reduced=pd.concat([fraud_data,non_fraud_reduced]).drop(columns=['isFlaggedFraud','step'])\n",
    "\n",
    "df_reduced['isFraud'].value_counts()"
   ]
  },
  {
   "cell_type": "code",
   "execution_count": 9,
   "id": "730eeceb-7de5-4578-8f88-426b5ed152ad",
   "metadata": {},
   "outputs": [
    {
     "data": {
      "text/html": [
       "<div>\n",
       "<style scoped>\n",
       "    .dataframe tbody tr th:only-of-type {\n",
       "        vertical-align: middle;\n",
       "    }\n",
       "\n",
       "    .dataframe tbody tr th {\n",
       "        vertical-align: top;\n",
       "    }\n",
       "\n",
       "    .dataframe thead th {\n",
       "        text-align: right;\n",
       "    }\n",
       "</style>\n",
       "<table border=\"1\" class=\"dataframe\">\n",
       "  <thead>\n",
       "    <tr style=\"text-align: right;\">\n",
       "      <th></th>\n",
       "      <th>amount</th>\n",
       "      <th>oldbalanceOrg</th>\n",
       "      <th>newbalanceOrig</th>\n",
       "      <th>oldbalanceDest</th>\n",
       "      <th>newbalanceDest</th>\n",
       "      <th>isFraud</th>\n",
       "    </tr>\n",
       "  </thead>\n",
       "  <tbody>\n",
       "    <tr>\n",
       "      <th>count</th>\n",
       "      <td>2.421300e+04</td>\n",
       "      <td>2.421300e+04</td>\n",
       "      <td>2.421300e+04</td>\n",
       "      <td>2.421300e+04</td>\n",
       "      <td>2.421300e+04</td>\n",
       "      <td>24213.000000</td>\n",
       "    </tr>\n",
       "    <tr>\n",
       "      <th>mean</th>\n",
       "      <td>6.208137e+05</td>\n",
       "      <td>1.106257e+06</td>\n",
       "      <td>6.269927e+05</td>\n",
       "      <td>9.086277e+05</td>\n",
       "      <td>1.247478e+06</td>\n",
       "      <td>0.339198</td>\n",
       "    </tr>\n",
       "    <tr>\n",
       "      <th>std</th>\n",
       "      <td>1.640453e+06</td>\n",
       "      <td>3.197880e+06</td>\n",
       "      <td>2.711397e+06</td>\n",
       "      <td>3.696411e+06</td>\n",
       "      <td>4.123993e+06</td>\n",
       "      <td>0.473447</td>\n",
       "    </tr>\n",
       "    <tr>\n",
       "      <th>min</th>\n",
       "      <td>0.000000e+00</td>\n",
       "      <td>0.000000e+00</td>\n",
       "      <td>0.000000e+00</td>\n",
       "      <td>0.000000e+00</td>\n",
       "      <td>0.000000e+00</td>\n",
       "      <td>0.000000</td>\n",
       "    </tr>\n",
       "    <tr>\n",
       "      <th>25%</th>\n",
       "      <td>2.394940e+04</td>\n",
       "      <td>7.120000e+02</td>\n",
       "      <td>0.000000e+00</td>\n",
       "      <td>0.000000e+00</td>\n",
       "      <td>0.000000e+00</td>\n",
       "      <td>0.000000</td>\n",
       "    </tr>\n",
       "    <tr>\n",
       "      <th>50%</th>\n",
       "      <td>1.323501e+05</td>\n",
       "      <td>5.683300e+04</td>\n",
       "      <td>0.000000e+00</td>\n",
       "      <td>0.000000e+00</td>\n",
       "      <td>1.518001e+05</td>\n",
       "      <td>0.000000</td>\n",
       "    </tr>\n",
       "    <tr>\n",
       "      <th>75%</th>\n",
       "      <td>3.599757e+05</td>\n",
       "      <td>4.940271e+05</td>\n",
       "      <td>2.442420e+04</td>\n",
       "      <td>6.349302e+05</td>\n",
       "      <td>1.067666e+06</td>\n",
       "      <td>1.000000</td>\n",
       "    </tr>\n",
       "    <tr>\n",
       "      <th>max</th>\n",
       "      <td>4.867221e+07</td>\n",
       "      <td>5.958504e+07</td>\n",
       "      <td>4.958504e+07</td>\n",
       "      <td>2.362305e+08</td>\n",
       "      <td>2.367265e+08</td>\n",
       "      <td>1.000000</td>\n",
       "    </tr>\n",
       "  </tbody>\n",
       "</table>\n",
       "</div>"
      ],
      "text/plain": [
       "             amount  oldbalanceOrg  newbalanceOrig  oldbalanceDest  \\\n",
       "count  2.421300e+04   2.421300e+04    2.421300e+04    2.421300e+04   \n",
       "mean   6.208137e+05   1.106257e+06    6.269927e+05    9.086277e+05   \n",
       "std    1.640453e+06   3.197880e+06    2.711397e+06    3.696411e+06   \n",
       "min    0.000000e+00   0.000000e+00    0.000000e+00    0.000000e+00   \n",
       "25%    2.394940e+04   7.120000e+02    0.000000e+00    0.000000e+00   \n",
       "50%    1.323501e+05   5.683300e+04    0.000000e+00    0.000000e+00   \n",
       "75%    3.599757e+05   4.940271e+05    2.442420e+04    6.349302e+05   \n",
       "max    4.867221e+07   5.958504e+07    4.958504e+07    2.362305e+08   \n",
       "\n",
       "       newbalanceDest       isFraud  \n",
       "count    2.421300e+04  24213.000000  \n",
       "mean     1.247478e+06      0.339198  \n",
       "std      4.123993e+06      0.473447  \n",
       "min      0.000000e+00      0.000000  \n",
       "25%      0.000000e+00      0.000000  \n",
       "50%      1.518001e+05      0.000000  \n",
       "75%      1.067666e+06      1.000000  \n",
       "max      2.367265e+08      1.000000  "
      ]
     },
     "execution_count": 9,
     "metadata": {},
     "output_type": "execute_result"
    }
   ],
   "source": [
    "df_reduced.describe()"
   ]
  },
  {
   "cell_type": "code",
   "execution_count": 10,
   "id": "6641ac16-d623-4446-a4c5-502af1a132dc",
   "metadata": {},
   "outputs": [
    {
     "name": "stdout",
     "output_type": "stream",
     "text": [
      "<class 'pandas.core.frame.DataFrame'>\n",
      "Index: 24213 entries, 2 to 2648588\n",
      "Data columns (total 9 columns):\n",
      " #   Column          Non-Null Count  Dtype  \n",
      "---  ------          --------------  -----  \n",
      " 0   type            24213 non-null  object \n",
      " 1   amount          24213 non-null  float64\n",
      " 2   nameOrig        24213 non-null  object \n",
      " 3   oldbalanceOrg   24213 non-null  float64\n",
      " 4   newbalanceOrig  24213 non-null  float64\n",
      " 5   nameDest        24213 non-null  object \n",
      " 6   oldbalanceDest  24213 non-null  float64\n",
      " 7   newbalanceDest  24213 non-null  float64\n",
      " 8   isFraud         24213 non-null  int64  \n",
      "dtypes: float64(5), int64(1), object(3)\n",
      "memory usage: 1.8+ MB\n"
     ]
    }
   ],
   "source": [
    "df_reduced.info()"
   ]
  },
  {
   "cell_type": "code",
   "execution_count": 11,
   "id": "85311e63-c5aa-45e3-8415-5a26194e96a2",
   "metadata": {},
   "outputs": [
    {
     "data": {
      "text/html": [
       "<div>\n",
       "<style scoped>\n",
       "    .dataframe tbody tr th:only-of-type {\n",
       "        vertical-align: middle;\n",
       "    }\n",
       "\n",
       "    .dataframe tbody tr th {\n",
       "        vertical-align: top;\n",
       "    }\n",
       "\n",
       "    .dataframe thead th {\n",
       "        text-align: right;\n",
       "    }\n",
       "</style>\n",
       "<table border=\"1\" class=\"dataframe\">\n",
       "  <thead>\n",
       "    <tr style=\"text-align: right;\">\n",
       "      <th></th>\n",
       "      <th>type</th>\n",
       "      <th>amount</th>\n",
       "      <th>nameOrig</th>\n",
       "      <th>oldbalanceOrg</th>\n",
       "      <th>newbalanceOrig</th>\n",
       "      <th>nameDest</th>\n",
       "      <th>oldbalanceDest</th>\n",
       "      <th>newbalanceDest</th>\n",
       "      <th>isFraud</th>\n",
       "    </tr>\n",
       "  </thead>\n",
       "  <tbody>\n",
       "    <tr>\n",
       "      <th>2</th>\n",
       "      <td>TRANSFER</td>\n",
       "      <td>181.0</td>\n",
       "      <td>C1305486145</td>\n",
       "      <td>181.0</td>\n",
       "      <td>0.0</td>\n",
       "      <td>C553264065</td>\n",
       "      <td>0.0</td>\n",
       "      <td>0.0</td>\n",
       "      <td>1</td>\n",
       "    </tr>\n",
       "    <tr>\n",
       "      <th>3</th>\n",
       "      <td>CASH_OUT</td>\n",
       "      <td>181.0</td>\n",
       "      <td>C840083671</td>\n",
       "      <td>181.0</td>\n",
       "      <td>0.0</td>\n",
       "      <td>C38997010</td>\n",
       "      <td>21182.0</td>\n",
       "      <td>0.0</td>\n",
       "      <td>1</td>\n",
       "    </tr>\n",
       "    <tr>\n",
       "      <th>251</th>\n",
       "      <td>TRANSFER</td>\n",
       "      <td>2806.0</td>\n",
       "      <td>C1420196421</td>\n",
       "      <td>2806.0</td>\n",
       "      <td>0.0</td>\n",
       "      <td>C972765878</td>\n",
       "      <td>0.0</td>\n",
       "      <td>0.0</td>\n",
       "      <td>1</td>\n",
       "    </tr>\n",
       "    <tr>\n",
       "      <th>252</th>\n",
       "      <td>CASH_OUT</td>\n",
       "      <td>2806.0</td>\n",
       "      <td>C2101527076</td>\n",
       "      <td>2806.0</td>\n",
       "      <td>0.0</td>\n",
       "      <td>C1007251739</td>\n",
       "      <td>26202.0</td>\n",
       "      <td>0.0</td>\n",
       "      <td>1</td>\n",
       "    </tr>\n",
       "    <tr>\n",
       "      <th>680</th>\n",
       "      <td>TRANSFER</td>\n",
       "      <td>20128.0</td>\n",
       "      <td>C137533655</td>\n",
       "      <td>20128.0</td>\n",
       "      <td>0.0</td>\n",
       "      <td>C1848415041</td>\n",
       "      <td>0.0</td>\n",
       "      <td>0.0</td>\n",
       "      <td>1</td>\n",
       "    </tr>\n",
       "  </tbody>\n",
       "</table>\n",
       "</div>"
      ],
      "text/plain": [
       "         type   amount     nameOrig  oldbalanceOrg  newbalanceOrig  \\\n",
       "2    TRANSFER    181.0  C1305486145          181.0             0.0   \n",
       "3    CASH_OUT    181.0   C840083671          181.0             0.0   \n",
       "251  TRANSFER   2806.0  C1420196421         2806.0             0.0   \n",
       "252  CASH_OUT   2806.0  C2101527076         2806.0             0.0   \n",
       "680  TRANSFER  20128.0   C137533655        20128.0             0.0   \n",
       "\n",
       "        nameDest  oldbalanceDest  newbalanceDest  isFraud  \n",
       "2     C553264065             0.0             0.0        1  \n",
       "3      C38997010         21182.0             0.0        1  \n",
       "251   C972765878             0.0             0.0        1  \n",
       "252  C1007251739         26202.0             0.0        1  \n",
       "680  C1848415041             0.0             0.0        1  "
      ]
     },
     "execution_count": 11,
     "metadata": {},
     "output_type": "execute_result"
    }
   ],
   "source": [
    "df_reduced.head()"
   ]
  },
  {
   "cell_type": "code",
   "execution_count": 12,
   "id": "db435a52-061e-4164-b25a-9fca9f9b3298",
   "metadata": {},
   "outputs": [
    {
     "name": "stdout",
     "output_type": "stream",
     "text": [
      "(19370, 8)\n",
      "(19370,)\n",
      "(4843, 8)\n",
      "(4843,)\n"
     ]
    }
   ],
   "source": [
    "inputs=df_reduced.drop(columns='isFraud')\n",
    "targets=df_reduced.isFraud\n",
    "\n",
    "x_train,x_test,y_train,y_test=train_test_split(inputs,targets,test_size=.2,random_state=1)\n",
    "\n",
    "print(x_train.shape)\n",
    "print(y_train.shape)\n",
    "print(x_test.shape)\n",
    "print(y_test.shape)"
   ]
  },
  {
   "cell_type": "code",
   "execution_count": 13,
   "id": "975bfba8-8c70-463d-a8f9-ec376e1f199d",
   "metadata": {},
   "outputs": [
    {
     "data": {
      "text/html": [
       "<div>\n",
       "<style scoped>\n",
       "    .dataframe tbody tr th:only-of-type {\n",
       "        vertical-align: middle;\n",
       "    }\n",
       "\n",
       "    .dataframe tbody tr th {\n",
       "        vertical-align: top;\n",
       "    }\n",
       "\n",
       "    .dataframe thead th {\n",
       "        text-align: right;\n",
       "    }\n",
       "</style>\n",
       "<table border=\"1\" class=\"dataframe\">\n",
       "  <thead>\n",
       "    <tr style=\"text-align: right;\">\n",
       "      <th></th>\n",
       "      <th>amount</th>\n",
       "      <th>oldbalanceOrg</th>\n",
       "      <th>newbalanceOrig</th>\n",
       "      <th>oldbalanceDest</th>\n",
       "      <th>newbalanceDest</th>\n",
       "    </tr>\n",
       "  </thead>\n",
       "  <tbody>\n",
       "    <tr>\n",
       "      <th>count</th>\n",
       "      <td>1.937000e+04</td>\n",
       "      <td>1.937000e+04</td>\n",
       "      <td>1.937000e+04</td>\n",
       "      <td>1.937000e+04</td>\n",
       "      <td>1.937000e+04</td>\n",
       "    </tr>\n",
       "    <tr>\n",
       "      <th>mean</th>\n",
       "      <td>6.274084e+05</td>\n",
       "      <td>1.097893e+06</td>\n",
       "      <td>6.108514e+05</td>\n",
       "      <td>8.981757e+05</td>\n",
       "      <td>1.244461e+06</td>\n",
       "    </tr>\n",
       "    <tr>\n",
       "      <th>std</th>\n",
       "      <td>1.658545e+06</td>\n",
       "      <td>3.132310e+06</td>\n",
       "      <td>2.629002e+06</td>\n",
       "      <td>3.421295e+06</td>\n",
       "      <td>3.909240e+06</td>\n",
       "    </tr>\n",
       "    <tr>\n",
       "      <th>min</th>\n",
       "      <td>0.000000e+00</td>\n",
       "      <td>0.000000e+00</td>\n",
       "      <td>0.000000e+00</td>\n",
       "      <td>0.000000e+00</td>\n",
       "      <td>0.000000e+00</td>\n",
       "    </tr>\n",
       "    <tr>\n",
       "      <th>25%</th>\n",
       "      <td>2.379318e+04</td>\n",
       "      <td>6.665000e+02</td>\n",
       "      <td>0.000000e+00</td>\n",
       "      <td>0.000000e+00</td>\n",
       "      <td>0.000000e+00</td>\n",
       "    </tr>\n",
       "    <tr>\n",
       "      <th>50%</th>\n",
       "      <td>1.315941e+05</td>\n",
       "      <td>5.732496e+04</td>\n",
       "      <td>0.000000e+00</td>\n",
       "      <td>0.000000e+00</td>\n",
       "      <td>1.515086e+05</td>\n",
       "    </tr>\n",
       "    <tr>\n",
       "      <th>75%</th>\n",
       "      <td>3.585705e+05</td>\n",
       "      <td>5.005577e+05</td>\n",
       "      <td>2.349953e+04</td>\n",
       "      <td>6.316607e+05</td>\n",
       "      <td>1.070345e+06</td>\n",
       "    </tr>\n",
       "    <tr>\n",
       "      <th>max</th>\n",
       "      <td>4.867221e+07</td>\n",
       "      <td>5.958504e+07</td>\n",
       "      <td>4.958504e+07</td>\n",
       "      <td>2.362305e+08</td>\n",
       "      <td>2.367265e+08</td>\n",
       "    </tr>\n",
       "  </tbody>\n",
       "</table>\n",
       "</div>"
      ],
      "text/plain": [
       "             amount  oldbalanceOrg  newbalanceOrig  oldbalanceDest  \\\n",
       "count  1.937000e+04   1.937000e+04    1.937000e+04    1.937000e+04   \n",
       "mean   6.274084e+05   1.097893e+06    6.108514e+05    8.981757e+05   \n",
       "std    1.658545e+06   3.132310e+06    2.629002e+06    3.421295e+06   \n",
       "min    0.000000e+00   0.000000e+00    0.000000e+00    0.000000e+00   \n",
       "25%    2.379318e+04   6.665000e+02    0.000000e+00    0.000000e+00   \n",
       "50%    1.315941e+05   5.732496e+04    0.000000e+00    0.000000e+00   \n",
       "75%    3.585705e+05   5.005577e+05    2.349953e+04    6.316607e+05   \n",
       "max    4.867221e+07   5.958504e+07    4.958504e+07    2.362305e+08   \n",
       "\n",
       "       newbalanceDest  \n",
       "count    1.937000e+04  \n",
       "mean     1.244461e+06  \n",
       "std      3.909240e+06  \n",
       "min      0.000000e+00  \n",
       "25%      0.000000e+00  \n",
       "50%      1.515086e+05  \n",
       "75%      1.070345e+06  \n",
       "max      2.367265e+08  "
      ]
     },
     "execution_count": 13,
     "metadata": {},
     "output_type": "execute_result"
    }
   ],
   "source": [
    "x_train.describe()"
   ]
  },
  {
   "cell_type": "code",
   "execution_count": 14,
   "id": "d21263d7-ee1b-4f3f-b3a9-4a6b07aa266b",
   "metadata": {},
   "outputs": [
    {
     "data": {
      "text/plain": [
       "isFraud\n",
       "0    12814\n",
       "1     6556\n",
       "Name: count, dtype: int64"
      ]
     },
     "execution_count": 14,
     "metadata": {},
     "output_type": "execute_result"
    }
   ],
   "source": [
    "y_train.value_counts()"
   ]
  },
  {
   "cell_type": "code",
   "execution_count": 15,
   "id": "ed9ad433-dff1-4aae-92b4-70c190bc35f0",
   "metadata": {},
   "outputs": [
    {
     "data": {
      "text/plain": [
       "array(['PAYMENT', 'CASH_OUT', 'TRANSFER', 'CASH_IN', 'DEBIT'],\n",
       "      dtype=object)"
      ]
     },
     "execution_count": 15,
     "metadata": {},
     "output_type": "execute_result"
    }
   ],
   "source": [
    "x_train['type'].unique()"
   ]
  },
  {
   "cell_type": "code",
   "execution_count": 16,
   "id": "f0fbe2ab-30bc-43b6-b1e2-42d546041313",
   "metadata": {},
   "outputs": [
    {
     "name": "stdout",
     "output_type": "stream",
     "text": [
      "(19370, 9)\n",
      "(4843, 9)\n"
     ]
    }
   ],
   "source": [
    "num_features=['amount','oldbalanceOrg','newbalanceOrig','oldbalanceDest','newbalanceDest']\n",
    "cat_features=['type']\n",
    "\n",
    "preprocessor=ColumnTransformer(\n",
    "    [\n",
    "        ('num',StandardScaler(),num_features),\n",
    "        ('cat',OneHotEncoder(drop='first', handle_unknown='ignore'),cat_features)\n",
    "    ],\n",
    "    remainder='drop'\n",
    ")\n",
    "\n",
    "\n",
    "x_train_processed=pd.DataFrame(\n",
    "    preprocessor.fit_transform(x_train),\n",
    "    columns=preprocessor.get_feature_names_out()\n",
    ")\n",
    "x_test_processed=pd.DataFrame(\n",
    "    preprocessor.transform(x_test),\n",
    "    columns=preprocessor.get_feature_names_out()\n",
    ")\n",
    "\n",
    "print(x_train_processed.shape)\n",
    "print(x_test_processed.shape)"
   ]
  },
  {
   "cell_type": "code",
   "execution_count": 17,
   "id": "d88fdbe8-3ae6-40c9-8de9-486ad5d6ad19",
   "metadata": {},
   "outputs": [
    {
     "data": {
      "text/plain": [
       "[array(['CASH_IN', 'CASH_OUT', 'DEBIT', 'PAYMENT', 'TRANSFER'],\n",
       "       dtype=object)]"
      ]
     },
     "execution_count": 17,
     "metadata": {},
     "output_type": "execute_result"
    }
   ],
   "source": [
    "preprocessor.named_transformers_['cat'].categories_"
   ]
  },
  {
   "cell_type": "code",
   "execution_count": 18,
   "id": "1686b3c0-cb4a-4937-88c7-cfa661795e66",
   "metadata": {},
   "outputs": [
    {
     "name": "stdout",
     "output_type": "stream",
     "text": [
      "<class 'pandas.core.frame.DataFrame'>\n",
      "RangeIndex: 19370 entries, 0 to 19369\n",
      "Data columns (total 9 columns):\n",
      " #   Column               Non-Null Count  Dtype  \n",
      "---  ------               --------------  -----  \n",
      " 0   num__amount          19370 non-null  float64\n",
      " 1   num__oldbalanceOrg   19370 non-null  float64\n",
      " 2   num__newbalanceOrig  19370 non-null  float64\n",
      " 3   num__oldbalanceDest  19370 non-null  float64\n",
      " 4   num__newbalanceDest  19370 non-null  float64\n",
      " 5   cat__type_CASH_OUT   19370 non-null  float64\n",
      " 6   cat__type_DEBIT      19370 non-null  float64\n",
      " 7   cat__type_PAYMENT    19370 non-null  float64\n",
      " 8   cat__type_TRANSFER   19370 non-null  float64\n",
      "dtypes: float64(9)\n",
      "memory usage: 1.3 MB\n"
     ]
    }
   ],
   "source": [
    "x_train_processed.info()"
   ]
  },
  {
   "cell_type": "code",
   "execution_count": 19,
   "id": "2bc5ee73-e766-4669-8494-d3930a14a891",
   "metadata": {},
   "outputs": [
    {
     "data": {
      "text/html": [
       "<div>\n",
       "<style scoped>\n",
       "    .dataframe tbody tr th:only-of-type {\n",
       "        vertical-align: middle;\n",
       "    }\n",
       "\n",
       "    .dataframe tbody tr th {\n",
       "        vertical-align: top;\n",
       "    }\n",
       "\n",
       "    .dataframe thead th {\n",
       "        text-align: right;\n",
       "    }\n",
       "</style>\n",
       "<table border=\"1\" class=\"dataframe\">\n",
       "  <thead>\n",
       "    <tr style=\"text-align: right;\">\n",
       "      <th></th>\n",
       "      <th>num__amount</th>\n",
       "      <th>num__oldbalanceOrg</th>\n",
       "      <th>num__newbalanceOrig</th>\n",
       "      <th>num__oldbalanceDest</th>\n",
       "      <th>num__newbalanceDest</th>\n",
       "      <th>cat__type_CASH_OUT</th>\n",
       "      <th>cat__type_DEBIT</th>\n",
       "      <th>cat__type_PAYMENT</th>\n",
       "      <th>cat__type_TRANSFER</th>\n",
       "    </tr>\n",
       "  </thead>\n",
       "  <tbody>\n",
       "    <tr>\n",
       "      <th>count</th>\n",
       "      <td>1.937000e+04</td>\n",
       "      <td>1.937000e+04</td>\n",
       "      <td>1.937000e+04</td>\n",
       "      <td>1.937000e+04</td>\n",
       "      <td>1.937000e+04</td>\n",
       "      <td>19370.000000</td>\n",
       "      <td>19370.000000</td>\n",
       "      <td>19370.000000</td>\n",
       "      <td>19370.000000</td>\n",
       "    </tr>\n",
       "    <tr>\n",
       "      <th>mean</th>\n",
       "      <td>-1.907497e-17</td>\n",
       "      <td>2.897929e-17</td>\n",
       "      <td>3.228072e-17</td>\n",
       "      <td>-3.081342e-17</td>\n",
       "      <td>-1.393940e-17</td>\n",
       "      <td>0.404130</td>\n",
       "      <td>0.004233</td>\n",
       "      <td>0.225142</td>\n",
       "      <td>0.220754</td>\n",
       "    </tr>\n",
       "    <tr>\n",
       "      <th>std</th>\n",
       "      <td>1.000026e+00</td>\n",
       "      <td>1.000026e+00</td>\n",
       "      <td>1.000026e+00</td>\n",
       "      <td>1.000026e+00</td>\n",
       "      <td>1.000026e+00</td>\n",
       "      <td>0.490736</td>\n",
       "      <td>0.064928</td>\n",
       "      <td>0.417687</td>\n",
       "      <td>0.414765</td>\n",
       "    </tr>\n",
       "    <tr>\n",
       "      <th>min</th>\n",
       "      <td>-3.782981e-01</td>\n",
       "      <td>-3.505150e-01</td>\n",
       "      <td>-2.323571e-01</td>\n",
       "      <td>-2.625318e-01</td>\n",
       "      <td>-3.183467e-01</td>\n",
       "      <td>0.000000</td>\n",
       "      <td>0.000000</td>\n",
       "      <td>0.000000</td>\n",
       "      <td>0.000000</td>\n",
       "    </tr>\n",
       "    <tr>\n",
       "      <th>25%</th>\n",
       "      <td>-3.639519e-01</td>\n",
       "      <td>-3.503022e-01</td>\n",
       "      <td>-2.323571e-01</td>\n",
       "      <td>-2.625318e-01</td>\n",
       "      <td>-3.183467e-01</td>\n",
       "      <td>0.000000</td>\n",
       "      <td>0.000000</td>\n",
       "      <td>0.000000</td>\n",
       "      <td>0.000000</td>\n",
       "    </tr>\n",
       "    <tr>\n",
       "      <th>50%</th>\n",
       "      <td>-2.989530e-01</td>\n",
       "      <td>-3.322133e-01</td>\n",
       "      <td>-2.323571e-01</td>\n",
       "      <td>-2.625318e-01</td>\n",
       "      <td>-2.795892e-01</td>\n",
       "      <td>0.000000</td>\n",
       "      <td>0.000000</td>\n",
       "      <td>0.000000</td>\n",
       "      <td>0.000000</td>\n",
       "    </tr>\n",
       "    <tr>\n",
       "      <th>75%</th>\n",
       "      <td>-1.620968e-01</td>\n",
       "      <td>-1.907062e-01</td>\n",
       "      <td>-2.234183e-01</td>\n",
       "      <td>-7.790087e-02</td>\n",
       "      <td>-4.454076e-02</td>\n",
       "      <td>1.000000</td>\n",
       "      <td>0.000000</td>\n",
       "      <td>0.000000</td>\n",
       "      <td>0.000000</td>\n",
       "    </tr>\n",
       "    <tr>\n",
       "      <th>max</th>\n",
       "      <td>2.896878e+01</td>\n",
       "      <td>1.867269e+01</td>\n",
       "      <td>1.862892e+01</td>\n",
       "      <td>6.878635e+01</td>\n",
       "      <td>6.023885e+01</td>\n",
       "      <td>1.000000</td>\n",
       "      <td>1.000000</td>\n",
       "      <td>1.000000</td>\n",
       "      <td>1.000000</td>\n",
       "    </tr>\n",
       "  </tbody>\n",
       "</table>\n",
       "</div>"
      ],
      "text/plain": [
       "        num__amount  num__oldbalanceOrg  num__newbalanceOrig  \\\n",
       "count  1.937000e+04        1.937000e+04         1.937000e+04   \n",
       "mean  -1.907497e-17        2.897929e-17         3.228072e-17   \n",
       "std    1.000026e+00        1.000026e+00         1.000026e+00   \n",
       "min   -3.782981e-01       -3.505150e-01        -2.323571e-01   \n",
       "25%   -3.639519e-01       -3.503022e-01        -2.323571e-01   \n",
       "50%   -2.989530e-01       -3.322133e-01        -2.323571e-01   \n",
       "75%   -1.620968e-01       -1.907062e-01        -2.234183e-01   \n",
       "max    2.896878e+01        1.867269e+01         1.862892e+01   \n",
       "\n",
       "       num__oldbalanceDest  num__newbalanceDest  cat__type_CASH_OUT  \\\n",
       "count         1.937000e+04         1.937000e+04        19370.000000   \n",
       "mean         -3.081342e-17        -1.393940e-17            0.404130   \n",
       "std           1.000026e+00         1.000026e+00            0.490736   \n",
       "min          -2.625318e-01        -3.183467e-01            0.000000   \n",
       "25%          -2.625318e-01        -3.183467e-01            0.000000   \n",
       "50%          -2.625318e-01        -2.795892e-01            0.000000   \n",
       "75%          -7.790087e-02        -4.454076e-02            1.000000   \n",
       "max           6.878635e+01         6.023885e+01            1.000000   \n",
       "\n",
       "       cat__type_DEBIT  cat__type_PAYMENT  cat__type_TRANSFER  \n",
       "count     19370.000000       19370.000000        19370.000000  \n",
       "mean          0.004233           0.225142            0.220754  \n",
       "std           0.064928           0.417687            0.414765  \n",
       "min           0.000000           0.000000            0.000000  \n",
       "25%           0.000000           0.000000            0.000000  \n",
       "50%           0.000000           0.000000            0.000000  \n",
       "75%           0.000000           0.000000            0.000000  \n",
       "max           1.000000           1.000000            1.000000  "
      ]
     },
     "execution_count": 19,
     "metadata": {},
     "output_type": "execute_result"
    }
   ],
   "source": [
    "x_train_processed.describe()"
   ]
  },
  {
   "cell_type": "markdown",
   "id": "b42762dd-8aa4-4a99-9b8e-65eba126052a",
   "metadata": {},
   "source": [
    "# Checking distribution"
   ]
  },
  {
   "cell_type": "markdown",
   "id": "5023da41-3c89-43d9-8d70-a092f922364e",
   "metadata": {},
   "source": [
    "- Amount distribution"
   ]
  },
  {
   "cell_type": "code",
   "execution_count": 20,
   "id": "0b798473-f79b-4438-a75c-950915c8bd08",
   "metadata": {},
   "outputs": [
    {
     "name": "stderr",
     "output_type": "stream",
     "text": [
      "/tmp/ipykernel_52/192893567.py:10: UserWarning: set_ticklabels() should only be used with a fixed number of ticks, i.e. after set_ticks() or using a FixedLocator.\n",
      "  plot.set_xticklabels([fraud_labels[int(float(i.get_text()))] for i in plot.get_xticklabels()])\n"
     ]
    },
    {
     "data": {
      "image/png": "[encoded data removed]",
      "text/plain": [
       "<Figure size 600x500 with 1 Axes>"
      ]
     },
     "metadata": {},
     "output_type": "display_data"
    }
   ],
   "source": [
    "%matplotlib inline\n",
    "\n",
    "fraud_labels={0:'No',1:'Yes'}\n",
    "\n",
    "plt.figure(figsize=(6,5))\n",
    "plot=sns.boxplot(y=x_train_processed['num__amount'],x=y_train)\n",
    "plt.ylabel(\"Amount\")\n",
    "plt.xlabel(\"Fraud\")\n",
    "plt.title(\"Amount by Fraud status\")\n",
    "plot.set_xticklabels([fraud_labels[int(float(i.get_text()))] for i in plot.get_xticklabels()])\n",
    "\n",
    "plt.tight_layout()\n",
    "plt.show()"
   ]
  },
  {
   "cell_type": "code",
   "execution_count": 21,
   "id": "f0ed3821-5abb-4b97-93c7-662270115f56",
   "metadata": {},
   "outputs": [
    {
     "data": {
      "image/png": "[encoded data removed]",
      "text/plain": [
       "<Figure size 640x480 with 1 Axes>"
      ]
     },
     "metadata": {},
     "output_type": "display_data"
    }
   ],
   "source": [
    "x_train_processed[\"num__amount\"].hist(bins=50)\n",
    "plt.show()"
   ]
  },
  {
   "cell_type": "markdown",
   "id": "b93441fe-efd9-4526-9e6a-22b41e90eb3d",
   "metadata": {},
   "source": [
    "- oldbalanceOrg distribution"
   ]
  },
  {
   "cell_type": "code",
   "execution_count": 22,
   "id": "45971452-7638-4c28-a4ff-be5c9d2272f9",
   "metadata": {},
   "outputs": [
    {
     "name": "stderr",
     "output_type": "stream",
     "text": [
      "/tmp/ipykernel_52/960565132.py:6: UserWarning: set_ticklabels() should only be used with a fixed number of ticks, i.e. after set_ticks() or using a FixedLocator.\n",
      "  plot.set_xticklabels([fraud_labels[int(float(i.get_text()))] for i in plot.get_xticklabels()])\n"
     ]
    },
    {
     "data": {
      "image/png": "[encoded data removed]",
      "text/plain": [
       "<Figure size 600x500 with 1 Axes>"
      ]
     },
     "metadata": {},
     "output_type": "display_data"
    }
   ],
   "source": [
    "plt.figure(figsize=(6,5))\n",
    "plot=sns.boxplot(y=x_train_processed['num__oldbalanceOrg'],x=y_train)\n",
    "plt.ylabel(\"oldbalanceOrg\")\n",
    "plt.xlabel(\"Fraud\")\n",
    "plt.title(\"oldbalanceOrg by Fraud status\")\n",
    "plot.set_xticklabels([fraud_labels[int(float(i.get_text()))] for i in plot.get_xticklabels()])\n",
    "\n",
    "plt.tight_layout()\n",
    "plt.show()"
   ]
  },
  {
   "cell_type": "code",
   "execution_count": 23,
   "id": "ee40633c-e0b1-4f21-aa82-ac1ad63a5323",
   "metadata": {},
   "outputs": [
    {
     "data": {
      "image/png": "[encoded data removed]",
      "text/plain": [
       "<Figure size 640x480 with 1 Axes>"
      ]
     },
     "metadata": {},
     "output_type": "display_data"
    }
   ],
   "source": [
    "x_train_processed[\"num__oldbalanceOrg\"].hist(bins=50)\n",
    "plt.show()"
   ]
  },
  {
   "cell_type": "markdown",
   "id": "9835fc02-1547-4dfb-b5d9-60f757e3afad",
   "metadata": {},
   "source": [
    "- newbalanceOrig  distribution"
   ]
  },
  {
   "cell_type": "code",
   "execution_count": 24,
   "id": "9adc60a6-eb4c-4d6b-9ae5-410de83c8eb5",
   "metadata": {},
   "outputs": [
    {
     "name": "stderr",
     "output_type": "stream",
     "text": [
      "/tmp/ipykernel_52/479674023.py:6: UserWarning: set_ticklabels() should only be used with a fixed number of ticks, i.e. after set_ticks() or using a FixedLocator.\n",
      "  plot.set_xticklabels([fraud_labels[int(float(i.get_text()))] for i in plot.get_xticklabels()])\n"
     ]
    },
    {
     "data": {
      "image/png": "[encoded data removed]",
      "text/plain": [
       "<Figure size 700x500 with 1 Axes>"
      ]
     },
     "metadata": {},
     "output_type": "display_data"
    }
   ],
   "source": [
    "plt.figure(figsize=(7,5))\n",
    "plot=sns.boxplot(y=x_train_processed['num__newbalanceOrig'],x=y_train)\n",
    "plt.ylabel(\"newbalanceOrig\")\n",
    "plt.xlabel(\"Fraud\")\n",
    "plt.title(\"newbalanceOrig by Fraud status\")\n",
    "plot.set_xticklabels([fraud_labels[int(float(i.get_text()))] for i in plot.get_xticklabels()])\n",
    "\n",
    "plt.tight_layout()\n",
    "plt.show()"
   ]
  },
  {
   "cell_type": "code",
   "execution_count": 25,
   "id": "e06b3c5c-4f05-44de-99d3-f9edfa6ca386",
   "metadata": {},
   "outputs": [
    {
     "data": {
      "image/png": "[encoded data removed]",
      "text/plain": [
       "<Figure size 640x480 with 1 Axes>"
      ]
     },
     "metadata": {},
     "output_type": "display_data"
    }
   ],
   "source": [
    "x_train_processed[\"num__newbalanceOrig\"].hist(bins=50)\n",
    "plt.show()"
   ]
  },
  {
   "cell_type": "markdown",
   "id": "572bfc45-5537-483d-bdf3-48e0af143568",
   "metadata": {},
   "source": [
    "# Processing outliers"
   ]
  },
  {
   "cell_type": "code",
   "execution_count": 26,
   "id": "9d63d2e3-4946-4ee6-a838-feb7ae021deb",
   "metadata": {},
   "outputs": [],
   "source": [
    "outliers_features=['num__amount','num__oldbalanceOrg','num__newbalanceOrig']\n",
    "\n",
    "for feature in outliers_features:\n",
    "    q1=x_train_processed[feature].quantile(.25)\n",
    "    q3=x_train_processed[feature].quantile(.75)\n",
    "\n",
    "    iqr=q3-q1\n",
    "\n",
    "    lowest_bound=q1-2*iqr\n",
    "    upper_bound=q3+2*iqr\n",
    "\n",
    "    x_train_processed.loc[\n",
    "        (x_train_processed[feature]>upper_bound) | (x_train_processed[feature]<lowest_bound),\n",
    "        feature\n",
    "    ]=x_train_processed[feature].median()"
   ]
  },
  {
   "cell_type": "code",
   "execution_count": 27,
   "id": "9e18dd05-1273-4b96-9183-e0a5c218c8e1",
   "metadata": {},
   "outputs": [
    {
     "name": "stderr",
     "output_type": "stream",
     "text": [
      "/tmp/ipykernel_52/1739195186.py:7: UserWarning: set_ticklabels() should only be used with a fixed number of ticks, i.e. after set_ticks() or using a FixedLocator.\n",
      "  plot.set_xticklabels(xticklabels)\n"
     ]
    },
    {
     "data": {
      "image/png": "[encoded data removed]",
      "text/plain": [
       "<Figure size 600x500 with 1 Axes>"
      ]
     },
     "metadata": {},
     "output_type": "display_data"
    }
   ],
   "source": [
    "plt.figure(figsize=(6,5))\n",
    "plot=sns.boxplot(y=x_train_processed['num__amount'],x=y_train)\n",
    "plt.ylabel(\"oldbalanceOrg\")\n",
    "plt.xlabel(\"Fraud\")\n",
    "plt.title(\"oldbalanceOrg by Fraud status\")\n",
    "xticklabels=[fraud_labels[int(float(i.get_text()))] for i in plot.get_xticklabels()]\n",
    "plot.set_xticklabels(xticklabels)\n",
    "\n",
    "plt.tight_layout()\n",
    "plt.show()"
   ]
  },
  {
   "cell_type": "code",
   "execution_count": 28,
   "id": "80cc1e57-ce16-4496-a4d6-fbf61c65adb3",
   "metadata": {},
   "outputs": [
    {
     "name": "stderr",
     "output_type": "stream",
     "text": [
      "/tmp/ipykernel_52/960565132.py:6: UserWarning: set_ticklabels() should only be used with a fixed number of ticks, i.e. after set_ticks() or using a FixedLocator.\n",
      "  plot.set_xticklabels([fraud_labels[int(float(i.get_text()))] for i in plot.get_xticklabels()])\n"
     ]
    },
    {
     "data": {
      "image/png": "[encoded data removed]",
      "text/plain": [
       "<Figure size 600x500 with 1 Axes>"
      ]
     },
     "metadata": {},
     "output_type": "display_data"
    }
   ],
   "source": [
    "plt.figure(figsize=(6,5))\n",
    "plot=sns.boxplot(y=x_train_processed['num__oldbalanceOrg'],x=y_train)\n",
    "plt.ylabel(\"oldbalanceOrg\")\n",
    "plt.xlabel(\"Fraud\")\n",
    "plt.title(\"oldbalanceOrg by Fraud status\")\n",
    "plot.set_xticklabels([fraud_labels[int(float(i.get_text()))] for i in plot.get_xticklabels()])\n",
    "\n",
    "plt.tight_layout()\n",
    "plt.show()"
   ]
  },
  {
   "cell_type": "code",
   "execution_count": 29,
   "id": "587b1970-02eb-4b38-a46a-e3b250e5911b",
   "metadata": {},
   "outputs": [
    {
     "name": "stderr",
     "output_type": "stream",
     "text": [
      "/tmp/ipykernel_52/479674023.py:6: UserWarning: set_ticklabels() should only be used with a fixed number of ticks, i.e. after set_ticks() or using a FixedLocator.\n",
      "  plot.set_xticklabels([fraud_labels[int(float(i.get_text()))] for i in plot.get_xticklabels()])\n"
     ]
    },
    {
     "data": {
      "image/png": "[encoded data removed]",
      "text/plain": [
       "<Figure size 700x500 with 1 Axes>"
      ]
     },
     "metadata": {},
     "output_type": "display_data"
    }
   ],
   "source": [
    "plt.figure(figsize=(7,5))\n",
    "plot=sns.boxplot(y=x_train_processed['num__newbalanceOrig'],x=y_train)\n",
    "plt.ylabel(\"newbalanceOrig\")\n",
    "plt.xlabel(\"Fraud\")\n",
    "plt.title(\"newbalanceOrig by Fraud status\")\n",
    "plot.set_xticklabels([fraud_labels[int(float(i.get_text()))] for i in plot.get_xticklabels()])\n",
    "\n",
    "plt.tight_layout()\n",
    "plt.show()"
   ]
  },
  {
   "cell_type": "markdown",
   "id": "8b8cc5cb-5e87-46bc-aa5d-1bc65667fa7c",
   "metadata": {},
   "source": [
    "# Graphs"
   ]
  },
  {
   "cell_type": "markdown",
   "id": "485c2658-8684-41ce-b59f-82af3a50957a",
   "metadata": {},
   "source": [
    "- Old destination balance / new destination balance"
   ]
  },
  {
   "cell_type": "code",
   "execution_count": 30,
   "id": "81f39ab5-f718-43b5-aad6-cf43964327ba",
   "metadata": {},
   "outputs": [
    {
     "data": {
      "image/png": "[encoded data removed]",
      "text/plain": [
       "<Figure size 1000x500 with 2 Axes>"
      ]
     },
     "metadata": {},
     "output_type": "display_data"
    }
   ],
   "source": [
    "fraud_true_data=df_reduced[df_reduced['isFraud']==1]\n",
    "fraud_false_data=df_reduced[df_reduced['isFraud']==0]\n",
    "\n",
    "fig, axes = plt.subplots(1, 2, figsize=(10, 5))\n",
    "\n",
    "axes[0].scatter(fraud_true_data['oldbalanceDest'],fraud_true_data['newbalanceDest'],c='red',marker='.')\n",
    "axes[0].set_title(\"fraud\")\n",
    "axes[0].set_xlabel(\"oldbalanceOrg\")\n",
    "axes[0].set_ylabel(\"newbalanceDest\")\n",
    "\n",
    "axes[1].scatter(fraud_false_data['oldbalanceDest'],fraud_false_data['newbalanceDest'],c='green',marker='.')\n",
    "axes[1].set_title(\"not fraud\")\n",
    "axes[1].set_xlabel(\"oldbalanceOrg\")\n",
    "axes[1].set_ylabel(\"newbalanceDest\")\n",
    "\n",
    "plt.tight_layout()\n",
    "plt.show()"
   ]
  },
  {
   "cell_type": "markdown",
   "id": "1cbea9fa-7628-4051-8549-bb9ac5bce917",
   "metadata": {},
   "source": [
    "- Pie graph to represent the percentage of each transaction type in fraudulant and non-fraudulant transactions"
   ]
  },
  {
   "cell_type": "code",
   "execution_count": 31,
   "id": "84943c4e-a3e9-4dce-a263-b4904da52b7d",
   "metadata": {},
   "outputs": [
    {
     "data": {
      "text/plain": [
       "type\n",
       "CASH_OUT    4116\n",
       "TRANSFER    4097\n",
       "Name: count, dtype: int64"
      ]
     },
     "execution_count": 31,
     "metadata": {},
     "output_type": "execute_result"
    }
   ],
   "source": [
    "ftd_value_counts=fraud_true_data.type.value_counts()\n",
    "ftd_labels=ftd_value_counts.index\n",
    "ftd_sizes=ftd_value_counts.values\n",
    "ftd_value_counts"
   ]
  },
  {
   "cell_type": "code",
   "execution_count": 32,
   "id": "d5e8e6f0-4b19-401b-ab84-60c66c4c81f8",
   "metadata": {},
   "outputs": [
    {
     "data": {
      "text/plain": [
       "type\n",
       "CASH_OUT    5681\n",
       "PAYMENT     5373\n",
       "CASH_IN     3564\n",
       "TRANSFER    1279\n",
       "DEBIT        103\n",
       "Name: count, dtype: int64"
      ]
     },
     "execution_count": 32,
     "metadata": {},
     "output_type": "execute_result"
    }
   ],
   "source": [
    "ffd_value_counts=fraud_false_data.type.value_counts()\n",
    "ffd_labels=ffd_value_counts.index\n",
    "ffd_sizes=ffd_value_counts.values\n",
    "ffd_value_counts"
   ]
  },
  {
   "cell_type": "code",
   "execution_count": 33,
   "id": "d6441f3d-f8b0-4a11-abbf-6f3031c281c6",
   "metadata": {},
   "outputs": [
    {
     "data": {
      "image/png": "[encoded data removed]",
      "text/plain": [
       "<Figure size 1000x500 with 2 Axes>"
      ]
     },
     "metadata": {},
     "output_type": "display_data"
    }
   ],
   "source": [
    "fig,axes=plt.subplots(1,2,figsize=(10,5))\n",
    "\n",
    "axes[0].pie(ftd_sizes,labels=ftd_labels,autopct='%1.1f%%', startangle=90)\n",
    "axes[0].set_title(\"fraud\")\n",
    "\n",
    "axes[1].pie(ffd_sizes,labels=ffd_labels,autopct='%1.1f%%', startangle=90)\n",
    "axes[1].set_title(\"not fraud\")\n",
    "\n",
    "plt.tight_layout()\n",
    "plt.show()"
   ]
  },
  {
   "cell_type": "markdown",
   "id": "029adc90-9a87-475d-a77f-fd94aa4b6287",
   "metadata": {},
   "source": [
    "# Balencing train dataset"
   ]
  },
  {
   "cell_type": "code",
   "execution_count": 34,
   "id": "c2deefee-1930-48ca-b6b5-56ca7693ffd4",
   "metadata": {},
   "outputs": [
    {
     "name": "stderr",
     "output_type": "stream",
     "text": [
      "/usr/local/lib/python3.9/site-packages/sklearn/base.py:474: FutureWarning: `BaseEstimator._validate_data` is deprecated in 1.6 and will be removed in 1.7. Use `sklearn.utils.validation.validate_data` instead. This function becomes public and is part of the scikit-learn developer API.\n",
      "  warnings.warn(\n"
     ]
    },
    {
     "data": {
      "text/plain": [
       "isFraud\n",
       "0    12814\n",
       "1    12814\n",
       "Name: count, dtype: int64"
      ]
     },
     "execution_count": 34,
     "metadata": {},
     "output_type": "execute_result"
    }
   ],
   "source": [
    "oversample=SVMSMOTE(random_state=1)\n",
    "x_train_balenced,y_train_balenced=oversample.fit_resample(x_train_processed,y_train)\n",
    "\n",
    "pd.Series(y_train_balenced).value_counts()"
   ]
  },
  {
   "cell_type": "code",
   "execution_count": 35,
   "id": "3abdda61-cbd6-4b36-8679-a11bf5b3a7eb",
   "metadata": {},
   "outputs": [
    {
     "name": "stdout",
     "output_type": "stream",
     "text": [
      "(25628, 7)\n",
      "(4843, 7)\n"
     ]
    }
   ],
   "source": [
    "drop_columns=['num__oldbalanceDest', 'num__newbalanceDest']\n",
    "\n",
    "x_train_balenced=x_train_balenced.drop(columns=drop_columns,axis=1)\n",
    "x_test_processed=x_test_processed.drop(columns=drop_columns,axis=1)\n",
    "\n",
    "print(x_train_balenced.shape)\n",
    "print(x_test_processed.shape)"
   ]
  },
  {
   "cell_type": "code",
   "execution_count": 36,
   "id": "9d7b5887-ddf1-4f7e-8eda-82f6afad7236",
   "metadata": {},
   "outputs": [
    {
     "data": {
      "text/html": [
       "<div>\n",
       "<style scoped>\n",
       "    .dataframe tbody tr th:only-of-type {\n",
       "        vertical-align: middle;\n",
       "    }\n",
       "\n",
       "    .dataframe tbody tr th {\n",
       "        vertical-align: top;\n",
       "    }\n",
       "\n",
       "    .dataframe thead th {\n",
       "        text-align: right;\n",
       "    }\n",
       "</style>\n",
       "<table border=\"1\" class=\"dataframe\">\n",
       "  <thead>\n",
       "    <tr style=\"text-align: right;\">\n",
       "      <th></th>\n",
       "      <th>num__amount</th>\n",
       "      <th>num__oldbalanceOrg</th>\n",
       "      <th>num__newbalanceOrig</th>\n",
       "      <th>cat__type_CASH_OUT</th>\n",
       "      <th>cat__type_DEBIT</th>\n",
       "      <th>cat__type_PAYMENT</th>\n",
       "      <th>cat__type_TRANSFER</th>\n",
       "    </tr>\n",
       "  </thead>\n",
       "  <tbody>\n",
       "    <tr>\n",
       "      <th>0</th>\n",
       "      <td>-0.377455</td>\n",
       "      <td>-0.315289</td>\n",
       "      <td>-0.232357</td>\n",
       "      <td>0.0</td>\n",
       "      <td>0.0</td>\n",
       "      <td>1.0</td>\n",
       "      <td>0.0</td>\n",
       "    </tr>\n",
       "    <tr>\n",
       "      <th>1</th>\n",
       "      <td>-0.298953</td>\n",
       "      <td>0.046080</td>\n",
       "      <td>-0.232357</td>\n",
       "      <td>1.0</td>\n",
       "      <td>0.0</td>\n",
       "      <td>0.0</td>\n",
       "      <td>0.0</td>\n",
       "    </tr>\n",
       "    <tr>\n",
       "      <th>2</th>\n",
       "      <td>-0.367964</td>\n",
       "      <td>-0.350515</td>\n",
       "      <td>-0.232357</td>\n",
       "      <td>1.0</td>\n",
       "      <td>0.0</td>\n",
       "      <td>0.0</td>\n",
       "      <td>0.0</td>\n",
       "    </tr>\n",
       "    <tr>\n",
       "      <th>3</th>\n",
       "      <td>-0.357399</td>\n",
       "      <td>-0.292449</td>\n",
       "      <td>-0.232357</td>\n",
       "      <td>0.0</td>\n",
       "      <td>0.0</td>\n",
       "      <td>1.0</td>\n",
       "      <td>0.0</td>\n",
       "    </tr>\n",
       "    <tr>\n",
       "      <th>4</th>\n",
       "      <td>-0.306337</td>\n",
       "      <td>-0.350237</td>\n",
       "      <td>-0.232357</td>\n",
       "      <td>1.0</td>\n",
       "      <td>0.0</td>\n",
       "      <td>0.0</td>\n",
       "      <td>0.0</td>\n",
       "    </tr>\n",
       "  </tbody>\n",
       "</table>\n",
       "</div>"
      ],
      "text/plain": [
       "   num__amount  num__oldbalanceOrg  num__newbalanceOrig  cat__type_CASH_OUT  \\\n",
       "0    -0.377455           -0.315289            -0.232357                 0.0   \n",
       "1    -0.298953            0.046080            -0.232357                 1.0   \n",
       "2    -0.367964           -0.350515            -0.232357                 1.0   \n",
       "3    -0.357399           -0.292449            -0.232357                 0.0   \n",
       "4    -0.306337           -0.350237            -0.232357                 1.0   \n",
       "\n",
       "   cat__type_DEBIT  cat__type_PAYMENT  cat__type_TRANSFER  \n",
       "0              0.0                1.0                 0.0  \n",
       "1              0.0                0.0                 0.0  \n",
       "2              0.0                0.0                 0.0  \n",
       "3              0.0                1.0                 0.0  \n",
       "4              0.0                0.0                 0.0  "
      ]
     },
     "execution_count": 36,
     "metadata": {},
     "output_type": "execute_result"
    }
   ],
   "source": [
    "x_train_balenced.head()"
   ]
  },
  {
   "cell_type": "markdown",
   "id": "e4b39ec4-a626-4a20-9078-47b6c972f53d",
   "metadata": {},
   "source": [
    "# Model def "
   ]
  },
  {
   "cell_type": "markdown",
   "id": "c220550c-e014-41cf-9220-76aa95d33979",
   "metadata": {},
   "source": [
    "- Model"
   ]
  },
  {
   "cell_type": "code",
   "execution_count": 37,
   "id": "aacd5b19-debc-41e8-bfdf-ccf01644c66c",
   "metadata": {},
   "outputs": [
    {
     "name": "stdout",
     "output_type": "stream",
     "text": [
      "Best score (F1) : 0.9872439476752725\n",
      "Best parametres : {'learning_rate': 0.5, 'max_depth': 7, 'n_estimators': 100}\n"
     ]
    }
   ],
   "source": [
    "xgb_model=xgb.XGBClassifier(random_state=1)\n",
    "\n",
    "grid_params_xgb={\n",
    "    'n_estimators':[20,30,50,70,100,200],\n",
    "    'learning_rate':[.1,.3,.5],\n",
    "    'max_depth':[2,3,7,20],\n",
    "}\n",
    "\n",
    "grid_search_xgb=GridSearchCV(\n",
    "    estimator=xgb_model,\n",
    "    param_grid=grid_params_xgb,\n",
    "    cv=5, \n",
    "    scoring='f1'\n",
    ")\n",
    "\n",
    "grid_search_xgb.fit(x_train_balenced,y_train_balenced)\n",
    "\n",
    "best_score=grid_search_xgb.best_score_\n",
    "best_estimator=grid_search_xgb.best_estimator_\n",
    "best_params=grid_search_xgb.best_params_\n",
    "\n",
    "\n",
    "print(f\"Best score (F1) : {best_score}\")\n",
    "print(f\"Best parametres : {best_params}\")\n"
   ]
  },
  {
   "cell_type": "markdown",
   "id": "213a18bc-2b5f-4566-b956-1741e90f4ce5",
   "metadata": {},
   "source": [
    "- Results"
   ]
  },
  {
   "cell_type": "code",
   "execution_count": 38,
   "id": "d2fe442b-3798-457e-a34c-364bcd8691c6",
   "metadata": {},
   "outputs": [
    {
     "name": "stdout",
     "output_type": "stream",
     "text": [
      "Training F1 score 0.9951615362878078\n",
      "testing F1 score 0.9919625457000277\n",
      "Classification Report on test Data\n",
      "              precision    recall  f1-score   support\n",
      "\n",
      "           0       1.00      0.99      0.99      3186\n",
      "           1       0.98      1.00      0.99      1657\n",
      "\n",
      "    accuracy                           0.99      4843\n",
      "   macro avg       0.99      0.99      0.99      4843\n",
      "weighted avg       0.99      0.99      0.99      4843\n",
      "\n"
     ]
    }
   ],
   "source": [
    "train_predictions=best_estimator.predict(x_train_balenced)\n",
    "test_predictions=best_estimator.predict(x_test_processed)\n",
    "\n",
    "#F1 SCORES\n",
    "train_f1_score=f1_score(y_train_balenced,train_predictions, average='weighted')\n",
    "test_f1_score=f1_score(y_test,test_predictions, average='weighted')\n",
    "\n",
    "print(f\"Training F1 score {train_f1_score}\")\n",
    "print(f\"testing F1 score {test_f1_score}\")\n",
    "\n",
    "\n",
    "#Classification Report on test Data\n",
    "print(\"Classification Report on test Data\")\n",
    "print(classification_report(y_test,test_predictions))"
   ]
  },
  {
   "cell_type": "code",
   "execution_count": 39,
   "id": "e221dbfe-89fe-4438-b4ea-44acc498c3f7",
   "metadata": {},
   "outputs": [
    {
     "data": {
      "image/png": "[encoded data removed]",
      "text/plain": [
       "<Figure size 500x400 with 2 Axes>"
      ]
     },
     "metadata": {},
     "output_type": "display_data"
    }
   ],
   "source": [
    "confusion_matrix=confusion_matrix(y_test,test_predictions)\n",
    "\n",
    "plt.figure(figsize=(5,4))\n",
    "sns.heatmap(confusion_matrix,annot=True, fmt='d', cmap='Blues',)\n",
    "plt.title(\"confusion Matrix\")\n",
    "plt.xlabel(\"Predictions\")\n",
    "plt.ylabel(\"Truth\")\n",
    "\n",
    "plt.tight_layout()\n",
    "plt.show()"
   ]
  },
  {
   "cell_type": "code",
   "execution_count": 40,
   "id": "1bc22035-794f-46a6-b917-da07e51510ab",
   "metadata": {},
   "outputs": [
    {
     "name": "stdout",
     "output_type": "stream",
     "text": [
      "Top Features by Importance:\n",
      "1. [cat__type_CASH_OUT] : 0.5810161232948303\n",
      "2. [cat__type_DEBIT] : 0.28248924016952515\n",
      "3. [num__newbalanceOrig] : 0.056306228041648865\n",
      "4. [num__oldbalanceDest] : 0.03998177871108055\n",
      "5. [num__newbalanceDest] : 0.01857464574277401\n",
      "6. [num__oldbalanceOrg] : 0.012322529219090939\n",
      "7. [num__amount] : 0.009309487417340279\n"
     ]
    }
   ],
   "source": [
    "importance=best_estimator.feature_importances_\n",
    "sorted_indices = np.argsort(importance)[::-1] \n",
    "features_names=preprocessor.get_feature_names_out()\n",
    "\n",
    "top_n = 10\n",
    "sorted_features_importance = [features_names[i] for i in sorted_indices[:top_n]]\n",
    "\n",
    "print(\"Top Features by Importance:\")\n",
    "for i, feature in enumerate(sorted_features_importance):\n",
    "    print(f\"{i+1}. [{feature}] : {importance[sorted_indices[i]]}\")"
   ]
  },
  {
   "cell_type": "code",
   "execution_count": 41,
   "id": "0db3d0db-49aa-4eb3-b6fd-f5bca3f945c2",
   "metadata": {},
   "outputs": [
    {
     "data": {
      "image/png": "[encoded data removed]",
      "text/plain": [
       "<Figure size 1500x700 with 1 Axes>"
      ]
     },
     "metadata": {},
     "output_type": "display_data"
    }
   ],
   "source": [
    "plt.figure(figsize=(15,7))\n",
    "plt.barh(sorted_features_importance,importance[sorted_indices[:top_n]], color='skyblue')\n",
    "plt.xlabel('Feature Importance')\n",
    "plt.ylabel('Feature Name')\n",
    "plt.title(\"Top 6 Feature Importances in XGBoost\")\n",
    "\n",
    "plt.show()\n"
   ]
  },
  {
   "cell_type": "markdown",
   "id": "7b200ea4-f524-484d-98f9-58ea36eaacab",
   "metadata": {},
   "source": [
    "# Exporting standardScaler infos"
   ]
  },
  {
   "cell_type": "code",
   "execution_count": 42,
   "id": "601024c6-5036-4e09-a133-a31bb89a64d1",
   "metadata": {},
   "outputs": [
    {
     "data": {
      "text/html": [
       "<div>\n",
       "<style scoped>\n",
       "    .dataframe tbody tr th:only-of-type {\n",
       "        vertical-align: middle;\n",
       "    }\n",
       "\n",
       "    .dataframe tbody tr th {\n",
       "        vertical-align: top;\n",
       "    }\n",
       "\n",
       "    .dataframe thead th {\n",
       "        text-align: right;\n",
       "    }\n",
       "</style>\n",
       "<table border=\"1\" class=\"dataframe\">\n",
       "  <thead>\n",
       "    <tr style=\"text-align: right;\">\n",
       "      <th></th>\n",
       "      <th>amount</th>\n",
       "      <th>oldbalanceOrg</th>\n",
       "      <th>newbalanceOrig</th>\n",
       "      <th>oldbalanceDest</th>\n",
       "      <th>newbalanceDest</th>\n",
       "    </tr>\n",
       "  </thead>\n",
       "  <tbody>\n",
       "    <tr>\n",
       "      <th>mean</th>\n",
       "      <td>6.274084e+05</td>\n",
       "      <td>1.097893e+06</td>\n",
       "      <td>6.108514e+05</td>\n",
       "      <td>8.981757e+05</td>\n",
       "      <td>1.244461e+06</td>\n",
       "    </tr>\n",
       "    <tr>\n",
       "      <th>scale</th>\n",
       "      <td>1.658503e+06</td>\n",
       "      <td>3.132229e+06</td>\n",
       "      <td>2.628934e+06</td>\n",
       "      <td>3.421207e+06</td>\n",
       "      <td>3.909139e+06</td>\n",
       "    </tr>\n",
       "  </tbody>\n",
       "</table>\n",
       "</div>"
      ],
      "text/plain": [
       "             amount  oldbalanceOrg  newbalanceOrig  oldbalanceDest  \\\n",
       "mean   6.274084e+05   1.097893e+06    6.108514e+05    8.981757e+05   \n",
       "scale  1.658503e+06   3.132229e+06    2.628934e+06    3.421207e+06   \n",
       "\n",
       "       newbalanceDest  \n",
       "mean     1.244461e+06  \n",
       "scale    3.909139e+06  "
      ]
     },
     "execution_count": 42,
     "metadata": {},
     "output_type": "execute_result"
    }
   ],
   "source": [
    "columns=num_features\n",
    "standardScaler=preprocessor.named_transformers_['num']\n",
    "data=[\n",
    "    standardScaler.mean_,\n",
    "    standardScaler.scale_\n",
    "]\n",
    "index=['mean','scale']\n",
    "\n",
    "df_ss_info=pd.DataFrame(data,columns=columns,index=index)\n",
    "df_ss_info"
   ]
  },
  {
   "cell_type": "code",
   "execution_count": 43,
   "id": "26cb03be-d2cf-457d-b6c1-3c0533ec0d93",
   "metadata": {},
   "outputs": [
    {
     "data": {
      "text/html": [
       "<div>\n",
       "<style scoped>\n",
       "    .dataframe tbody tr th:only-of-type {\n",
       "        vertical-align: middle;\n",
       "    }\n",
       "\n",
       "    .dataframe tbody tr th {\n",
       "        vertical-align: top;\n",
       "    }\n",
       "\n",
       "    .dataframe thead th {\n",
       "        text-align: right;\n",
       "    }\n",
       "</style>\n",
       "<table border=\"1\" class=\"dataframe\">\n",
       "  <thead>\n",
       "    <tr style=\"text-align: right;\">\n",
       "      <th></th>\n",
       "      <th>amount</th>\n",
       "      <th>oldbalanceOrg</th>\n",
       "      <th>newbalanceOrig</th>\n",
       "    </tr>\n",
       "  </thead>\n",
       "  <tbody>\n",
       "    <tr>\n",
       "      <th>mean</th>\n",
       "      <td>6.274084e+05</td>\n",
       "      <td>1.097893e+06</td>\n",
       "      <td>6.108514e+05</td>\n",
       "    </tr>\n",
       "    <tr>\n",
       "      <th>scale</th>\n",
       "      <td>1.658503e+06</td>\n",
       "      <td>3.132229e+06</td>\n",
       "      <td>2.628934e+06</td>\n",
       "    </tr>\n",
       "  </tbody>\n",
       "</table>\n",
       "</div>"
      ],
      "text/plain": [
       "             amount  oldbalanceOrg  newbalanceOrig\n",
       "mean   6.274084e+05   1.097893e+06    6.108514e+05\n",
       "scale  1.658503e+06   3.132229e+06    2.628934e+06"
      ]
     },
     "execution_count": 43,
     "metadata": {},
     "output_type": "execute_result"
    }
   ],
   "source": [
    "important_columns=['amount','oldbalanceOrg','newbalanceOrig']\n",
    "df_ss_info=df_ss_info[important_columns]\n",
    "df_ss_info"
   ]
  },
  {
   "cell_type": "code",
   "execution_count": 44,
   "id": "8a5177b1-b780-4098-af16-01828d9868e0",
   "metadata": {},
   "outputs": [],
   "source": [
    "df_ss_info.to_csv(\"../csv_files/credit_data_mean_scale.csv\",index=True)"
   ]
  },
  {
   "cell_type": "markdown",
   "id": "09e48916-9eb8-4546-a84c-38a10c57095d",
   "metadata": {},
   "source": [
    "# Serialization"
   ]
  },
  {
   "cell_type": "markdown",
   "id": "bbf86064-791f-466a-ac96-ad1185ca0299",
   "metadata": {},
   "source": [
    "- serializing the model"
   ]
  },
  {
   "cell_type": "code",
   "execution_count": 45,
   "id": "ccff682d-a19f-4d94-bb42-891e0122eca8",
   "metadata": {},
   "outputs": [
    {
     "data": {
      "text/plain": [
       "['models/credit_fraud_detection_model.pkl']"
      ]
     },
     "execution_count": 45,
     "metadata": {},
     "output_type": "execute_result"
    }
   ],
   "source": [
    "jb.dump(best_estimator,\"models/credit_fraud_detection_model.pkl\")"
   ]
  },
  {
   "cell_type": "markdown",
   "id": "7df8cd74-2ae1-418c-affe-8a448b8cfa1d",
   "metadata": {},
   "source": [
    "- Serializing the column tansformer"
   ]
  },
  {
   "cell_type": "code",
   "execution_count": 46,
   "id": "14034670-4487-4eb1-be03-6b41322d6361",
   "metadata": {},
   "outputs": [
    {
     "data": {
      "text/plain": [
       "['preprocessors/credit_fraud_data_preprocessor.pkl']"
      ]
     },
     "execution_count": 46,
     "metadata": {},
     "output_type": "execute_result"
    }
   ],
   "source": [
    "jb.dump(preprocessor,\"preprocessors/credit_fraud_data_preprocessor.pkl\")"
   ]
  },
  {
   "cell_type": "code",
   "execution_count": 47,
   "id": "ee8d0a24-9d0e-485f-86ad-1c083a15d9c0",
   "metadata": {},
   "outputs": [
    {
     "data": {
      "text/plain": [
       "Index(['num__amount', 'num__oldbalanceOrg', 'num__newbalanceOrig',\n",
       "       'num__oldbalanceDest', 'num__newbalanceDest', 'cat__type_CASH_OUT',\n",
       "       'cat__type_DEBIT', 'cat__type_PAYMENT', 'cat__type_TRANSFER'],\n",
       "      dtype='object')"
      ]
     },
     "execution_count": 47,
     "metadata": {},
     "output_type": "execute_result"
    }
   ],
   "source": [
    "x_train_processed.columns"
   ]
  }
 ],
 "metadata": {
  "kernelspec": {
   "display_name": "Python 3 (ipykernel)",
   "language": "python",
   "name": "python3"
  },
  "language_info": {
   "codemirror_mode": {
    "name": "ipython",
    "version": 3
   },
   "file_extension": ".py",
   "mimetype": "text/x-python",
   "name": "python",
   "nbconvert_exporter": "python",
   "pygments_lexer": "ipython3",
   "version": "3.9.21"
  }
 },
 "nbformat": 4,
 "nbformat_minor": 5
}
