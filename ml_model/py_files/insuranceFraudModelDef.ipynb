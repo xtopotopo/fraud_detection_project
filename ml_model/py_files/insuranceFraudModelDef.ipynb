{
 "cells": [
  {
   "cell_type": "code",
   "execution_count": 1,
   "id": "5aba8f53-36ff-4026-ba76-64c71c47628e",
   "metadata": {},
   "outputs": [],
   "source": [
    "import pandas as pd\n",
    "import numpy as np\n",
    "import joblib as jb\n",
    "import seaborn as sns \n",
    "import xgboost as xgb\n",
    "from matplotlib import pyplot as plt\n",
    "from sklearn.pipeline import Pipeline\n",
    "from imblearn.over_sampling import SVMSMOTE\n",
    "from sklearn.compose import ColumnTransformer\n",
    "from sklearn.inspection import permutation_importance\n",
    "from sklearn.preprocessing import StandardScaler,OneHotEncoder\n",
    "from sklearn.model_selection import train_test_split,GridSearchCV\n",
    "from sklearn.metrics import f1_score, classification_report, confusion_matrix"
   ]
  },
  {
   "cell_type": "code",
   "execution_count": 2,
   "id": "db01ece0-e22c-468b-8c8e-f04ccdb3576e",
   "metadata": {},
   "outputs": [
    {
     "data": {
      "text/html": [
       "<div>\n",
       "<style scoped>\n",
       "    .dataframe tbody tr th:only-of-type {\n",
       "        vertical-align: middle;\n",
       "    }\n",
       "\n",
       "    .dataframe tbody tr th {\n",
       "        vertical-align: top;\n",
       "    }\n",
       "\n",
       "    .dataframe thead th {\n",
       "        text-align: right;\n",
       "    }\n",
       "</style>\n",
       "<table border=\"1\" class=\"dataframe\">\n",
       "  <thead>\n",
       "    <tr style=\"text-align: right;\">\n",
       "      <th></th>\n",
       "      <th>age_of_driver</th>\n",
       "      <th>gender</th>\n",
       "      <th>marital_status</th>\n",
       "      <th>safty_rating</th>\n",
       "      <th>annual_income</th>\n",
       "      <th>high_education_ind</th>\n",
       "      <th>address_change_ind</th>\n",
       "      <th>living_status</th>\n",
       "      <th>zip_code</th>\n",
       "      <th>claim_date</th>\n",
       "      <th>...</th>\n",
       "      <th>liab_prct</th>\n",
       "      <th>channel</th>\n",
       "      <th>policy_report_filed_ind</th>\n",
       "      <th>claim_est_payout</th>\n",
       "      <th>age_of_vehicle</th>\n",
       "      <th>vehicle_category</th>\n",
       "      <th>vehicle_price</th>\n",
       "      <th>vehicle_color</th>\n",
       "      <th>vehicle_weight</th>\n",
       "      <th>fraud</th>\n",
       "    </tr>\n",
       "  </thead>\n",
       "  <tbody>\n",
       "    <tr>\n",
       "      <th>0</th>\n",
       "      <td>50</td>\n",
       "      <td>F</td>\n",
       "      <td>1.0</td>\n",
       "      <td>66</td>\n",
       "      <td>39117</td>\n",
       "      <td>1</td>\n",
       "      <td>0</td>\n",
       "      <td>Own</td>\n",
       "      <td>50051</td>\n",
       "      <td>1/2/2016</td>\n",
       "      <td>...</td>\n",
       "      <td>18</td>\n",
       "      <td>Broker</td>\n",
       "      <td>0</td>\n",
       "      <td>5464.903723</td>\n",
       "      <td>3.0</td>\n",
       "      <td>Large</td>\n",
       "      <td>16786.28845</td>\n",
       "      <td>blue</td>\n",
       "      <td>34183.436390</td>\n",
       "      <td>0</td>\n",
       "    </tr>\n",
       "    <tr>\n",
       "      <th>1</th>\n",
       "      <td>47</td>\n",
       "      <td>M</td>\n",
       "      <td>1.0</td>\n",
       "      <td>78</td>\n",
       "      <td>38498</td>\n",
       "      <td>1</td>\n",
       "      <td>0</td>\n",
       "      <td>Own</td>\n",
       "      <td>50012</td>\n",
       "      <td>12/28/2015</td>\n",
       "      <td>...</td>\n",
       "      <td>81</td>\n",
       "      <td>Broker</td>\n",
       "      <td>0</td>\n",
       "      <td>5448.155974</td>\n",
       "      <td>4.0</td>\n",
       "      <td>Large</td>\n",
       "      <td>20793.29881</td>\n",
       "      <td>black</td>\n",
       "      <td>14528.379730</td>\n",
       "      <td>0</td>\n",
       "    </tr>\n",
       "    <tr>\n",
       "      <th>2</th>\n",
       "      <td>28</td>\n",
       "      <td>M</td>\n",
       "      <td>0.0</td>\n",
       "      <td>76</td>\n",
       "      <td>33343</td>\n",
       "      <td>0</td>\n",
       "      <td>1</td>\n",
       "      <td>Rent</td>\n",
       "      <td>20158</td>\n",
       "      <td>2/26/2016</td>\n",
       "      <td>...</td>\n",
       "      <td>94</td>\n",
       "      <td>Broker</td>\n",
       "      <td>1</td>\n",
       "      <td>1858.971699</td>\n",
       "      <td>4.0</td>\n",
       "      <td>Compact</td>\n",
       "      <td>6729.47649</td>\n",
       "      <td>blue</td>\n",
       "      <td>7182.832636</td>\n",
       "      <td>0</td>\n",
       "    </tr>\n",
       "    <tr>\n",
       "      <th>3</th>\n",
       "      <td>36</td>\n",
       "      <td>M</td>\n",
       "      <td>1.0</td>\n",
       "      <td>56</td>\n",
       "      <td>35832</td>\n",
       "      <td>1</td>\n",
       "      <td>0</td>\n",
       "      <td>Own</td>\n",
       "      <td>50054</td>\n",
       "      <td>9/20/2015</td>\n",
       "      <td>...</td>\n",
       "      <td>95</td>\n",
       "      <td>Phone</td>\n",
       "      <td>0</td>\n",
       "      <td>4040.932844</td>\n",
       "      <td>5.0</td>\n",
       "      <td>Compact</td>\n",
       "      <td>24914.26785</td>\n",
       "      <td>gray</td>\n",
       "      <td>47891.788790</td>\n",
       "      <td>0</td>\n",
       "    </tr>\n",
       "    <tr>\n",
       "      <th>4</th>\n",
       "      <td>60</td>\n",
       "      <td>F</td>\n",
       "      <td>1.0</td>\n",
       "      <td>79</td>\n",
       "      <td>40948</td>\n",
       "      <td>1</td>\n",
       "      <td>1</td>\n",
       "      <td>Rent</td>\n",
       "      <td>80010</td>\n",
       "      <td>4/14/2015</td>\n",
       "      <td>...</td>\n",
       "      <td>53</td>\n",
       "      <td>Phone</td>\n",
       "      <td>1</td>\n",
       "      <td>4876.606138</td>\n",
       "      <td>6.0</td>\n",
       "      <td>Medium</td>\n",
       "      <td>17392.41997</td>\n",
       "      <td>black</td>\n",
       "      <td>7546.494014</td>\n",
       "      <td>0</td>\n",
       "    </tr>\n",
       "  </tbody>\n",
       "</table>\n",
       "<p>5 rows × 24 columns</p>\n",
       "</div>"
      ],
      "text/plain": [
       "   age_of_driver gender  marital_status  safty_rating  annual_income  \\\n",
       "0             50      F             1.0            66          39117   \n",
       "1             47      M             1.0            78          38498   \n",
       "2             28      M             0.0            76          33343   \n",
       "3             36      M             1.0            56          35832   \n",
       "4             60      F             1.0            79          40948   \n",
       "\n",
       "   high_education_ind  address_change_ind living_status  zip_code  claim_date  \\\n",
       "0                   1                   0           Own     50051    1/2/2016   \n",
       "1                   1                   0           Own     50012  12/28/2015   \n",
       "2                   0                   1          Rent     20158   2/26/2016   \n",
       "3                   1                   0           Own     50054   9/20/2015   \n",
       "4                   1                   1          Rent     80010   4/14/2015   \n",
       "\n",
       "   ... liab_prct channel  policy_report_filed_ind  claim_est_payout  \\\n",
       "0  ...        18  Broker                        0       5464.903723   \n",
       "1  ...        81  Broker                        0       5448.155974   \n",
       "2  ...        94  Broker                        1       1858.971699   \n",
       "3  ...        95   Phone                        0       4040.932844   \n",
       "4  ...        53   Phone                        1       4876.606138   \n",
       "\n",
       "   age_of_vehicle vehicle_category  vehicle_price  vehicle_color  \\\n",
       "0             3.0            Large    16786.28845           blue   \n",
       "1             4.0            Large    20793.29881          black   \n",
       "2             4.0          Compact     6729.47649           blue   \n",
       "3             5.0          Compact    24914.26785           gray   \n",
       "4             6.0           Medium    17392.41997          black   \n",
       "\n",
       "   vehicle_weight fraud  \n",
       "0    34183.436390     0  \n",
       "1    14528.379730     0  \n",
       "2     7182.832636     0  \n",
       "3    47891.788790     0  \n",
       "4     7546.494014     0  \n",
       "\n",
       "[5 rows x 24 columns]"
      ]
     },
     "execution_count": 2,
     "metadata": {},
     "output_type": "execute_result"
    }
   ],
   "source": [
    "df=pd.read_csv(\"../csv_files/insuranceFraud.csv\").drop(columns='claim_number')\n",
    "df.head()"
   ]
  },
  {
   "cell_type": "code",
   "execution_count": 3,
   "id": "d0f65eb9-bb2d-45c4-8e0d-dcfa73df0689",
   "metadata": {},
   "outputs": [
    {
     "data": {
      "text/html": [
       "<div>\n",
       "<style scoped>\n",
       "    .dataframe tbody tr th:only-of-type {\n",
       "        vertical-align: middle;\n",
       "    }\n",
       "\n",
       "    .dataframe tbody tr th {\n",
       "        vertical-align: top;\n",
       "    }\n",
       "\n",
       "    .dataframe thead th {\n",
       "        text-align: right;\n",
       "    }\n",
       "</style>\n",
       "<table border=\"1\" class=\"dataframe\">\n",
       "  <thead>\n",
       "    <tr style=\"text-align: right;\">\n",
       "      <th></th>\n",
       "      <th>age_of_driver</th>\n",
       "      <th>marital_status</th>\n",
       "      <th>safty_rating</th>\n",
       "      <th>annual_income</th>\n",
       "      <th>high_education_ind</th>\n",
       "      <th>address_change_ind</th>\n",
       "      <th>zip_code</th>\n",
       "      <th>past_num_of_claims</th>\n",
       "      <th>witness_present_ind</th>\n",
       "      <th>liab_prct</th>\n",
       "      <th>policy_report_filed_ind</th>\n",
       "      <th>claim_est_payout</th>\n",
       "      <th>age_of_vehicle</th>\n",
       "      <th>vehicle_price</th>\n",
       "      <th>vehicle_weight</th>\n",
       "      <th>fraud</th>\n",
       "    </tr>\n",
       "  </thead>\n",
       "  <tbody>\n",
       "    <tr>\n",
       "      <th>count</th>\n",
       "      <td>19000.000000</td>\n",
       "      <td>18996.000000</td>\n",
       "      <td>19000.000000</td>\n",
       "      <td>19000.000000</td>\n",
       "      <td>19000.000000</td>\n",
       "      <td>19000.000000</td>\n",
       "      <td>19000.000000</td>\n",
       "      <td>19000.000000</td>\n",
       "      <td>18857.000000</td>\n",
       "      <td>19000.000000</td>\n",
       "      <td>19000.000000</td>\n",
       "      <td>18977.000000</td>\n",
       "      <td>18993.000000</td>\n",
       "      <td>19000.000000</td>\n",
       "      <td>19000.000000</td>\n",
       "      <td>19000.000000</td>\n",
       "    </tr>\n",
       "    <tr>\n",
       "      <th>mean</th>\n",
       "      <td>43.605368</td>\n",
       "      <td>0.716625</td>\n",
       "      <td>73.575211</td>\n",
       "      <td>37343.942895</td>\n",
       "      <td>0.696842</td>\n",
       "      <td>0.574000</td>\n",
       "      <td>50020.455211</td>\n",
       "      <td>0.499684</td>\n",
       "      <td>0.236888</td>\n",
       "      <td>49.440158</td>\n",
       "      <td>0.600000</td>\n",
       "      <td>4997.514848</td>\n",
       "      <td>4.994050</td>\n",
       "      <td>23042.319551</td>\n",
       "      <td>23004.473575</td>\n",
       "      <td>0.154632</td>\n",
       "    </tr>\n",
       "    <tr>\n",
       "      <th>std</th>\n",
       "      <td>12.042639</td>\n",
       "      <td>0.450649</td>\n",
       "      <td>15.388084</td>\n",
       "      <td>2969.160303</td>\n",
       "      <td>0.459635</td>\n",
       "      <td>0.494507</td>\n",
       "      <td>29179.200999</td>\n",
       "      <td>0.949318</td>\n",
       "      <td>0.425184</td>\n",
       "      <td>33.665171</td>\n",
       "      <td>0.489911</td>\n",
       "      <td>2235.301290</td>\n",
       "      <td>2.246174</td>\n",
       "      <td>11989.010656</td>\n",
       "      <td>12117.439182</td>\n",
       "      <td>0.361563</td>\n",
       "    </tr>\n",
       "    <tr>\n",
       "      <th>min</th>\n",
       "      <td>18.000000</td>\n",
       "      <td>0.000000</td>\n",
       "      <td>1.000000</td>\n",
       "      <td>-1.000000</td>\n",
       "      <td>0.000000</td>\n",
       "      <td>0.000000</td>\n",
       "      <td>0.000000</td>\n",
       "      <td>0.000000</td>\n",
       "      <td>0.000000</td>\n",
       "      <td>0.000000</td>\n",
       "      <td>0.000000</td>\n",
       "      <td>417.826352</td>\n",
       "      <td>0.000000</td>\n",
       "      <td>2261.507903</td>\n",
       "      <td>2429.429302</td>\n",
       "      <td>0.000000</td>\n",
       "    </tr>\n",
       "    <tr>\n",
       "      <th>25%</th>\n",
       "      <td>35.000000</td>\n",
       "      <td>0.000000</td>\n",
       "      <td>65.000000</td>\n",
       "      <td>35551.000000</td>\n",
       "      <td>0.000000</td>\n",
       "      <td>0.000000</td>\n",
       "      <td>20112.000000</td>\n",
       "      <td>0.000000</td>\n",
       "      <td>0.000000</td>\n",
       "      <td>17.000000</td>\n",
       "      <td>0.000000</td>\n",
       "      <td>3363.778231</td>\n",
       "      <td>3.000000</td>\n",
       "      <td>14243.413855</td>\n",
       "      <td>14109.824760</td>\n",
       "      <td>0.000000</td>\n",
       "    </tr>\n",
       "    <tr>\n",
       "      <th>50%</th>\n",
       "      <td>43.000000</td>\n",
       "      <td>1.000000</td>\n",
       "      <td>76.000000</td>\n",
       "      <td>37609.000000</td>\n",
       "      <td>1.000000</td>\n",
       "      <td>1.000000</td>\n",
       "      <td>50028.000000</td>\n",
       "      <td>0.000000</td>\n",
       "      <td>0.000000</td>\n",
       "      <td>50.000000</td>\n",
       "      <td>1.000000</td>\n",
       "      <td>4669.858508</td>\n",
       "      <td>5.000000</td>\n",
       "      <td>20870.952460</td>\n",
       "      <td>20802.839055</td>\n",
       "      <td>0.000000</td>\n",
       "    </tr>\n",
       "    <tr>\n",
       "      <th>75%</th>\n",
       "      <td>51.000000</td>\n",
       "      <td>1.000000</td>\n",
       "      <td>85.000000</td>\n",
       "      <td>39318.000000</td>\n",
       "      <td>1.000000</td>\n",
       "      <td>1.000000</td>\n",
       "      <td>80040.000000</td>\n",
       "      <td>1.000000</td>\n",
       "      <td>0.000000</td>\n",
       "      <td>81.000000</td>\n",
       "      <td>1.000000</td>\n",
       "      <td>6275.376268</td>\n",
       "      <td>6.000000</td>\n",
       "      <td>29457.601303</td>\n",
       "      <td>29415.104935</td>\n",
       "      <td>0.000000</td>\n",
       "    </tr>\n",
       "    <tr>\n",
       "      <th>max</th>\n",
       "      <td>278.000000</td>\n",
       "      <td>1.000000</td>\n",
       "      <td>100.000000</td>\n",
       "      <td>56275.000000</td>\n",
       "      <td>1.000000</td>\n",
       "      <td>1.000000</td>\n",
       "      <td>85083.000000</td>\n",
       "      <td>6.000000</td>\n",
       "      <td>1.000000</td>\n",
       "      <td>100.000000</td>\n",
       "      <td>1.000000</td>\n",
       "      <td>23903.366250</td>\n",
       "      <td>16.000000</td>\n",
       "      <td>127063.506000</td>\n",
       "      <td>103192.723700</td>\n",
       "      <td>1.000000</td>\n",
       "    </tr>\n",
       "  </tbody>\n",
       "</table>\n",
       "</div>"
      ],
      "text/plain": [
       "       age_of_driver  marital_status  safty_rating  annual_income  \\\n",
       "count   19000.000000    18996.000000  19000.000000   19000.000000   \n",
       "mean       43.605368        0.716625     73.575211   37343.942895   \n",
       "std        12.042639        0.450649     15.388084    2969.160303   \n",
       "min        18.000000        0.000000      1.000000      -1.000000   \n",
       "25%        35.000000        0.000000     65.000000   35551.000000   \n",
       "50%        43.000000        1.000000     76.000000   37609.000000   \n",
       "75%        51.000000        1.000000     85.000000   39318.000000   \n",
       "max       278.000000        1.000000    100.000000   56275.000000   \n",
       "\n",
       "       high_education_ind  address_change_ind      zip_code  \\\n",
       "count        19000.000000        19000.000000  19000.000000   \n",
       "mean             0.696842            0.574000  50020.455211   \n",
       "std              0.459635            0.494507  29179.200999   \n",
       "min              0.000000            0.000000      0.000000   \n",
       "25%              0.000000            0.000000  20112.000000   \n",
       "50%              1.000000            1.000000  50028.000000   \n",
       "75%              1.000000            1.000000  80040.000000   \n",
       "max              1.000000            1.000000  85083.000000   \n",
       "\n",
       "       past_num_of_claims  witness_present_ind     liab_prct  \\\n",
       "count        19000.000000         18857.000000  19000.000000   \n",
       "mean             0.499684             0.236888     49.440158   \n",
       "std              0.949318             0.425184     33.665171   \n",
       "min              0.000000             0.000000      0.000000   \n",
       "25%              0.000000             0.000000     17.000000   \n",
       "50%              0.000000             0.000000     50.000000   \n",
       "75%              1.000000             0.000000     81.000000   \n",
       "max              6.000000             1.000000    100.000000   \n",
       "\n",
       "       policy_report_filed_ind  claim_est_payout  age_of_vehicle  \\\n",
       "count             19000.000000      18977.000000    18993.000000   \n",
       "mean                  0.600000       4997.514848        4.994050   \n",
       "std                   0.489911       2235.301290        2.246174   \n",
       "min                   0.000000        417.826352        0.000000   \n",
       "25%                   0.000000       3363.778231        3.000000   \n",
       "50%                   1.000000       4669.858508        5.000000   \n",
       "75%                   1.000000       6275.376268        6.000000   \n",
       "max                   1.000000      23903.366250       16.000000   \n",
       "\n",
       "       vehicle_price  vehicle_weight         fraud  \n",
       "count   19000.000000    19000.000000  19000.000000  \n",
       "mean    23042.319551    23004.473575      0.154632  \n",
       "std     11989.010656    12117.439182      0.361563  \n",
       "min      2261.507903     2429.429302      0.000000  \n",
       "25%     14243.413855    14109.824760      0.000000  \n",
       "50%     20870.952460    20802.839055      0.000000  \n",
       "75%     29457.601303    29415.104935      0.000000  \n",
       "max    127063.506000   103192.723700      1.000000  "
      ]
     },
     "execution_count": 3,
     "metadata": {},
     "output_type": "execute_result"
    }
   ],
   "source": [
    "df.describe()"
   ]
  },
  {
   "cell_type": "code",
   "execution_count": 4,
   "id": "c8941b42-aad1-4609-96b9-e882810d4dcb",
   "metadata": {},
   "outputs": [
    {
     "data": {
      "text/plain": [
       "fraud\n",
       "0    16062\n",
       "1     2938\n",
       "Name: count, dtype: int64"
      ]
     },
     "execution_count": 4,
     "metadata": {},
     "output_type": "execute_result"
    }
   ],
   "source": [
    "df.fraud.value_counts()"
   ]
  },
  {
   "cell_type": "code",
   "execution_count": 5,
   "id": "5e16560c-dec2-45cc-82f4-884f427fa6bd",
   "metadata": {},
   "outputs": [
    {
     "name": "stdout",
     "output_type": "stream",
     "text": [
      "(15200, 23)\n",
      "(15200,)\n"
     ]
    }
   ],
   "source": [
    "inputs=df.drop(columns=\"fraud\")\n",
    "targets=df.fraud\n",
    "\n",
    "x_train,x_test,y_train,y_test=train_test_split(inputs,targets,test_size=.2,random_state=1)\n",
    "print(x_train.shape)\n",
    "print(y_train.shape)"
   ]
  },
  {
   "cell_type": "code",
   "execution_count": 6,
   "id": "e9541d95-2f30-412a-89c4-f611a82feb72",
   "metadata": {},
   "outputs": [
    {
     "name": "stdout",
     "output_type": "stream",
     "text": [
      "<class 'pandas.core.frame.DataFrame'>\n",
      "Index: 15200 entries, 14759 to 235\n",
      "Data columns (total 23 columns):\n",
      " #   Column                   Non-Null Count  Dtype  \n",
      "---  ------                   --------------  -----  \n",
      " 0   age_of_driver            15200 non-null  int64  \n",
      " 1   gender                   15200 non-null  object \n",
      " 2   marital_status           15197 non-null  float64\n",
      " 3   safty_rating             15200 non-null  int64  \n",
      " 4   annual_income            15200 non-null  int64  \n",
      " 5   high_education_ind       15200 non-null  int64  \n",
      " 6   address_change_ind       15200 non-null  int64  \n",
      " 7   living_status            15200 non-null  object \n",
      " 8   zip_code                 15200 non-null  int64  \n",
      " 9   claim_date               15200 non-null  object \n",
      " 10  claim_day_of_week        15200 non-null  object \n",
      " 11  accident_site            15200 non-null  object \n",
      " 12  past_num_of_claims       15200 non-null  int64  \n",
      " 13  witness_present_ind      15082 non-null  float64\n",
      " 14  liab_prct                15200 non-null  int64  \n",
      " 15  channel                  15200 non-null  object \n",
      " 16  policy_report_filed_ind  15200 non-null  int64  \n",
      " 17  claim_est_payout         15184 non-null  float64\n",
      " 18  age_of_vehicle           15195 non-null  float64\n",
      " 19  vehicle_category         15200 non-null  object \n",
      " 20  vehicle_price            15200 non-null  float64\n",
      " 21  vehicle_color            15200 non-null  object \n",
      " 22  vehicle_weight           15200 non-null  float64\n",
      "dtypes: float64(6), int64(9), object(8)\n",
      "memory usage: 2.8+ MB\n"
     ]
    }
   ],
   "source": [
    "x_train.info()"
   ]
  },
  {
   "cell_type": "code",
   "execution_count": 7,
   "id": "2ba3afb9-1690-4851-b778-8db21cfa12fe",
   "metadata": {},
   "outputs": [
    {
     "data": {
      "text/plain": [
       "age_of_driver                0\n",
       "gender                       0\n",
       "marital_status               3\n",
       "safty_rating                 0\n",
       "annual_income                0\n",
       "high_education_ind           0\n",
       "address_change_ind           0\n",
       "living_status                0\n",
       "zip_code                     0\n",
       "claim_date                   0\n",
       "claim_day_of_week            0\n",
       "accident_site                0\n",
       "past_num_of_claims           0\n",
       "witness_present_ind        118\n",
       "liab_prct                    0\n",
       "channel                      0\n",
       "policy_report_filed_ind      0\n",
       "claim_est_payout            16\n",
       "age_of_vehicle               5\n",
       "vehicle_category             0\n",
       "vehicle_price                0\n",
       "vehicle_color                0\n",
       "vehicle_weight               0\n",
       "dtype: int64"
      ]
     },
     "execution_count": 7,
     "metadata": {},
     "output_type": "execute_result"
    }
   ],
   "source": [
    "x_train.isnull().sum()"
   ]
  },
  {
   "cell_type": "code",
   "execution_count": 8,
   "id": "ba57b23c-e449-47c0-ab3d-9fbd28ac4c53",
   "metadata": {},
   "outputs": [
    {
     "name": "stdout",
     "output_type": "stream",
     "text": [
      "['Rent' 'Own']\n",
      "[ 1.  0. nan]\n",
      "['Broker' 'Phone' 'Online']\n",
      "['Compact' 'Medium' 'Large']\n",
      "['Local' 'Highway' 'Parking Lot']\n"
     ]
    }
   ],
   "source": [
    "print(x_train['living_status'].unique())\n",
    "print(x_train['marital_status'].unique())\n",
    "print(x_train['channel'].unique())\n",
    "print(x_train['vehicle_category'].unique())\n",
    "print(x_train['accident_site'].unique())"
   ]
  },
  {
   "cell_type": "code",
   "execution_count": 9,
   "id": "caf2831c-c0ff-496f-b64a-80043ce23ed9",
   "metadata": {},
   "outputs": [],
   "source": [
    "x_train['marital_status']=x_train['marital_status'].fillna(x_train['marital_status'].mode()[0])\n",
    "x_train['witness_present_ind']=x_train['witness_present_ind'].fillna(x_train['witness_present_ind'].mode()[0])\n",
    "x_train['claim_est_payout']=x_train['claim_est_payout'].fillna(x_train['claim_est_payout'].median())\n",
    "x_train['age_of_vehicle']=x_train['age_of_vehicle'].fillna(x_train['age_of_vehicle'].median())"
   ]
  },
  {
   "cell_type": "code",
   "execution_count": 10,
   "id": "30c595eb-1de8-4d25-a5d0-91a418ac7d02",
   "metadata": {},
   "outputs": [
    {
     "data": {
      "text/plain": [
       "np.int64(0)"
      ]
     },
     "execution_count": 10,
     "metadata": {},
     "output_type": "execute_result"
    }
   ],
   "source": [
    "x_train.isnull().sum().sum()"
   ]
  },
  {
   "cell_type": "code",
   "execution_count": 11,
   "id": "3f62efd0-7b43-43ae-be1b-7f77e18fd50c",
   "metadata": {},
   "outputs": [
    {
     "data": {
      "text/plain": [
       "<Axes: xlabel='fraud', ylabel='annual_income'>"
      ]
     },
     "execution_count": 11,
     "metadata": {},
     "output_type": "execute_result"
    },
    {
     "data": {
      "image/png": "[encoded data removed]",
      "text/plain": [
       "<Figure size 640x480 with 1 Axes>"
      ]
     },
     "metadata": {},
     "output_type": "display_data"
    }
   ],
   "source": [
    "sns.boxplot(x=y_train,y=x_train['annual_income'])"
   ]
  },
  {
   "cell_type": "code",
   "execution_count": 12,
   "id": "d6763894-447a-45d8-92ce-3ec8816dcbd8",
   "metadata": {},
   "outputs": [
    {
     "data": {
      "text/plain": [
       "<Axes: xlabel='gender', ylabel='age_of_driver'>"
      ]
     },
     "execution_count": 12,
     "metadata": {},
     "output_type": "execute_result"
    },
    {
     "data": {
      "image/png": "[encoded data removed]",
      "text/plain": [
       "<Figure size 640x480 with 1 Axes>"
      ]
     },
     "metadata": {},
     "output_type": "display_data"
    }
   ],
   "source": [
    "sns.boxplot(x=x_train.gender,y=x_train.age_of_driver)"
   ]
  },
  {
   "cell_type": "code",
   "execution_count": 13,
   "id": "19353336-5c86-496e-82d6-8697cb6609c6",
   "metadata": {},
   "outputs": [],
   "source": [
    "possible_outliers_features=['annual_income','age_of_driver']\n",
    "\n",
    "for feature in possible_outliers_features :\n",
    "    q1=x_train[feature].quantile(.25)\n",
    "    q3=x_train[feature].quantile(.75)\n",
    "    iqr=q3-q1\n",
    "\n",
    "    low_bound=q1-1.5*iqr\n",
    "    upper_bound=q3+1.5*iqr\n",
    "\n",
    "    x_train[feature] = x_train[feature].astype(float)\n",
    "\n",
    "    x_train.loc[(x_train[feature]<low_bound) | (x_train[feature]>upper_bound),feature]=x_train[feature].mean()"
   ]
  },
  {
   "cell_type": "code",
   "execution_count": 14,
   "id": "6da7945d-783d-4bf2-9ce9-d0808ce8e154",
   "metadata": {},
   "outputs": [
    {
     "data": {
      "text/plain": [
       "<Axes: xlabel='fraud', ylabel='annual_income'>"
      ]
     },
     "execution_count": 14,
     "metadata": {},
     "output_type": "execute_result"
    },
    {
     "data": {
      "image/png": "[encoded data removed]",
      "text/plain": [
       "<Figure size 640x480 with 1 Axes>"
      ]
     },
     "metadata": {},
     "output_type": "display_data"
    }
   ],
   "source": [
    "sns.boxplot(x=y_train,y=x_train['annual_income'])"
   ]
  },
  {
   "cell_type": "code",
   "execution_count": 15,
   "id": "3e00de7f-7282-419b-8165-0c34dfc15cde",
   "metadata": {},
   "outputs": [
    {
     "data": {
      "text/plain": [
       "<Axes: xlabel='gender', ylabel='age_of_driver'>"
      ]
     },
     "execution_count": 15,
     "metadata": {},
     "output_type": "execute_result"
    },
    {
     "data": {
      "image/png": "[encoded data removed]",
      "text/plain": [
       "<Figure size 640x480 with 1 Axes>"
      ]
     },
     "metadata": {},
     "output_type": "display_data"
    }
   ],
   "source": [
    "sns.boxplot(x=x_train.gender,y=x_train.age_of_driver)"
   ]
  },
  {
   "cell_type": "code",
   "execution_count": 16,
   "id": "2830950e-235e-4166-a380-fac189baf7c8",
   "metadata": {},
   "outputs": [
    {
     "data": {
      "text/html": [
       "<div>\n",
       "<style scoped>\n",
       "    .dataframe tbody tr th:only-of-type {\n",
       "        vertical-align: middle;\n",
       "    }\n",
       "\n",
       "    .dataframe tbody tr th {\n",
       "        vertical-align: top;\n",
       "    }\n",
       "\n",
       "    .dataframe thead th {\n",
       "        text-align: right;\n",
       "    }\n",
       "</style>\n",
       "<table border=\"1\" class=\"dataframe\">\n",
       "  <thead>\n",
       "    <tr style=\"text-align: right;\">\n",
       "      <th></th>\n",
       "      <th>claim_date</th>\n",
       "      <th>claim_day_of_week</th>\n",
       "    </tr>\n",
       "  </thead>\n",
       "  <tbody>\n",
       "    <tr>\n",
       "      <th>0</th>\n",
       "      <td>1/2/2016</td>\n",
       "      <td>Saturday</td>\n",
       "    </tr>\n",
       "    <tr>\n",
       "      <th>1</th>\n",
       "      <td>12/28/2015</td>\n",
       "      <td>Monday</td>\n",
       "    </tr>\n",
       "    <tr>\n",
       "      <th>2</th>\n",
       "      <td>2/26/2016</td>\n",
       "      <td>Friday</td>\n",
       "    </tr>\n",
       "    <tr>\n",
       "      <th>3</th>\n",
       "      <td>9/20/2015</td>\n",
       "      <td>Sunday</td>\n",
       "    </tr>\n",
       "    <tr>\n",
       "      <th>4</th>\n",
       "      <td>4/14/2015</td>\n",
       "      <td>Tuesday</td>\n",
       "    </tr>\n",
       "  </tbody>\n",
       "</table>\n",
       "</div>"
      ],
      "text/plain": [
       "   claim_date claim_day_of_week\n",
       "0    1/2/2016          Saturday\n",
       "1  12/28/2015            Monday\n",
       "2   2/26/2016            Friday\n",
       "3   9/20/2015            Sunday\n",
       "4   4/14/2015           Tuesday"
      ]
     },
     "execution_count": 16,
     "metadata": {},
     "output_type": "execute_result"
    }
   ],
   "source": [
    "df[['claim_date','claim_day_of_week']].head()"
   ]
  },
  {
   "cell_type": "code",
   "execution_count": 17,
   "id": "14337806-a281-4400-a478-6d29a4853afc",
   "metadata": {},
   "outputs": [
    {
     "name": "stdout",
     "output_type": "stream",
     "text": [
      "<class 'pandas.core.frame.DataFrame'>\n",
      "RangeIndex: 15200 entries, 0 to 15199\n",
      "Data columns (total 36 columns):\n",
      " #   Column                            Non-Null Count  Dtype  \n",
      "---  ------                            --------------  -----  \n",
      " 0   num__age_of_driver                15200 non-null  float64\n",
      " 1   num__age_of_vehicle               15200 non-null  float64\n",
      " 2   num__marital_status               15200 non-null  float64\n",
      " 3   num__zip_code                     15200 non-null  float64\n",
      " 4   num__safty_rating                 15200 non-null  float64\n",
      " 5   num__witness_present_ind          15200 non-null  float64\n",
      " 6   num__annual_income                15200 non-null  float64\n",
      " 7   num__high_education_ind           15200 non-null  float64\n",
      " 8   num__policy_report_filed_ind      15200 non-null  float64\n",
      " 9   num__address_change_ind           15200 non-null  float64\n",
      " 10  num__past_num_of_claims           15200 non-null  float64\n",
      " 11  num__liab_prct                    15200 non-null  float64\n",
      " 12  num__claim_est_payout             15200 non-null  float64\n",
      " 13  num__vehicle_price                15200 non-null  float64\n",
      " 14  num__vehicle_weight               15200 non-null  float64\n",
      " 15  num__claim_day_of_year            15200 non-null  float64\n",
      " 16  cat__gender_M                     15200 non-null  float64\n",
      " 17  cat__living_status_Rent           15200 non-null  float64\n",
      " 18  cat__accident_site_Local          15200 non-null  float64\n",
      " 19  cat__accident_site_Parking Lot    15200 non-null  float64\n",
      " 20  cat__channel_Online               15200 non-null  float64\n",
      " 21  cat__channel_Phone                15200 non-null  float64\n",
      " 22  cat__vehicle_category_Large       15200 non-null  float64\n",
      " 23  cat__vehicle_category_Medium      15200 non-null  float64\n",
      " 24  cat__vehicle_color_blue           15200 non-null  float64\n",
      " 25  cat__vehicle_color_gray           15200 non-null  float64\n",
      " 26  cat__vehicle_color_other          15200 non-null  float64\n",
      " 27  cat__vehicle_color_red            15200 non-null  float64\n",
      " 28  cat__vehicle_color_silver         15200 non-null  float64\n",
      " 29  cat__vehicle_color_white          15200 non-null  float64\n",
      " 30  cat__claim_day_of_week_Monday     15200 non-null  float64\n",
      " 31  cat__claim_day_of_week_Saturday   15200 non-null  float64\n",
      " 32  cat__claim_day_of_week_Sunday     15200 non-null  float64\n",
      " 33  cat__claim_day_of_week_Thursday   15200 non-null  float64\n",
      " 34  cat__claim_day_of_week_Tuesday    15200 non-null  float64\n",
      " 35  cat__claim_day_of_week_Wednesday  15200 non-null  float64\n",
      "dtypes: float64(36)\n",
      "memory usage: 4.2 MB\n"
     ]
    }
   ],
   "source": [
    "x_train['claim_day_of_year']=pd.to_datetime(x_train.claim_date).dt.dayofyear\n",
    "x_test['claim_day_of_year']=pd.to_datetime(x_test.claim_date).dt.dayofyear\n",
    "\n",
    "x_train['claim_day_of_week']=pd.to_datetime(x_train.claim_date).dt.day_name()\n",
    "x_test['claim_day_of_week']=pd.to_datetime(x_test.claim_date).dt.day_name()\n",
    "\n",
    "num_features=['age_of_driver', 'age_of_vehicle', 'marital_status', 'zip_code', 'safty_rating',\n",
    "                      'witness_present_ind', 'annual_income', 'high_education_ind',\n",
    "                      'policy_report_filed_ind', 'address_change_ind', 'past_num_of_claims', 'liab_prct',\n",
    "                      'claim_est_payout', 'vehicle_price', 'vehicle_weight', 'claim_day_of_year']\n",
    "\n",
    "cat_features = ['gender', 'living_status', 'accident_site',  'channel',\n",
    "                        'vehicle_category', 'vehicle_color', 'claim_day_of_week']\n",
    "\n",
    "\n",
    "preprocessor=ColumnTransformer(\n",
    "    [\n",
    "        ('num',StandardScaler(),num_features),\n",
    "        ('cat',OneHotEncoder(drop='first', handle_unknown='ignore'),cat_features)\n",
    "    ],\n",
    "    remainder='drop'\n",
    ")\n",
    "\n",
    "x_train_scaled=pd.DataFrame(preprocessor.fit_transform(x_train),columns=preprocessor.get_feature_names_out())\n",
    "x_test_scaled=pd.DataFrame(preprocessor.transform(x_test),columns=preprocessor.get_feature_names_out())\n",
    "\n",
    "x_train_scaled.info()"
   ]
  },
  {
   "cell_type": "code",
   "execution_count": 18,
   "id": "616366cc-2c00-4014-84e4-2b869040ba07",
   "metadata": {},
   "outputs": [
    {
     "data": {
      "text/html": [
       "<div>\n",
       "<style scoped>\n",
       "    .dataframe tbody tr th:only-of-type {\n",
       "        vertical-align: middle;\n",
       "    }\n",
       "\n",
       "    .dataframe tbody tr th {\n",
       "        vertical-align: top;\n",
       "    }\n",
       "\n",
       "    .dataframe thead th {\n",
       "        text-align: right;\n",
       "    }\n",
       "</style>\n",
       "<table border=\"1\" class=\"dataframe\">\n",
       "  <thead>\n",
       "    <tr style=\"text-align: right;\">\n",
       "      <th></th>\n",
       "      <th>num__age_of_driver</th>\n",
       "      <th>num__age_of_vehicle</th>\n",
       "      <th>num__marital_status</th>\n",
       "      <th>num__zip_code</th>\n",
       "      <th>num__safty_rating</th>\n",
       "      <th>num__witness_present_ind</th>\n",
       "      <th>num__annual_income</th>\n",
       "      <th>num__high_education_ind</th>\n",
       "      <th>num__policy_report_filed_ind</th>\n",
       "      <th>num__address_change_ind</th>\n",
       "      <th>...</th>\n",
       "      <th>cat__vehicle_color_other</th>\n",
       "      <th>cat__vehicle_color_red</th>\n",
       "      <th>cat__vehicle_color_silver</th>\n",
       "      <th>cat__vehicle_color_white</th>\n",
       "      <th>cat__claim_day_of_week_Monday</th>\n",
       "      <th>cat__claim_day_of_week_Saturday</th>\n",
       "      <th>cat__claim_day_of_week_Sunday</th>\n",
       "      <th>cat__claim_day_of_week_Thursday</th>\n",
       "      <th>cat__claim_day_of_week_Tuesday</th>\n",
       "      <th>cat__claim_day_of_week_Wednesday</th>\n",
       "    </tr>\n",
       "  </thead>\n",
       "  <tbody>\n",
       "    <tr>\n",
       "      <th>count</th>\n",
       "      <td>1.520000e+04</td>\n",
       "      <td>1.520000e+04</td>\n",
       "      <td>1.520000e+04</td>\n",
       "      <td>1.520000e+04</td>\n",
       "      <td>1.520000e+04</td>\n",
       "      <td>1.520000e+04</td>\n",
       "      <td>1.520000e+04</td>\n",
       "      <td>1.520000e+04</td>\n",
       "      <td>1.520000e+04</td>\n",
       "      <td>1.520000e+04</td>\n",
       "      <td>...</td>\n",
       "      <td>15200.000000</td>\n",
       "      <td>15200.000000</td>\n",
       "      <td>15200.000000</td>\n",
       "      <td>15200.000000</td>\n",
       "      <td>15200.000000</td>\n",
       "      <td>15200.000000</td>\n",
       "      <td>15200.000000</td>\n",
       "      <td>15200.000000</td>\n",
       "      <td>15200.000000</td>\n",
       "      <td>15200.000000</td>\n",
       "    </tr>\n",
       "    <tr>\n",
       "      <th>mean</th>\n",
       "      <td>-4.543734e-16</td>\n",
       "      <td>1.776357e-16</td>\n",
       "      <td>3.622833e-17</td>\n",
       "      <td>-1.168656e-17</td>\n",
       "      <td>-1.065814e-16</td>\n",
       "      <td>3.739699e-17</td>\n",
       "      <td>2.731850e-15</td>\n",
       "      <td>4.207161e-18</td>\n",
       "      <td>-5.983518e-17</td>\n",
       "      <td>-6.591219e-17</td>\n",
       "      <td>...</td>\n",
       "      <td>0.143092</td>\n",
       "      <td>0.143224</td>\n",
       "      <td>0.141579</td>\n",
       "      <td>0.143882</td>\n",
       "      <td>0.146053</td>\n",
       "      <td>0.141711</td>\n",
       "      <td>0.141579</td>\n",
       "      <td>0.146579</td>\n",
       "      <td>0.145000</td>\n",
       "      <td>0.140592</td>\n",
       "    </tr>\n",
       "    <tr>\n",
       "      <th>std</th>\n",
       "      <td>1.000033e+00</td>\n",
       "      <td>1.000033e+00</td>\n",
       "      <td>1.000033e+00</td>\n",
       "      <td>1.000033e+00</td>\n",
       "      <td>1.000033e+00</td>\n",
       "      <td>1.000033e+00</td>\n",
       "      <td>1.000033e+00</td>\n",
       "      <td>1.000033e+00</td>\n",
       "      <td>1.000033e+00</td>\n",
       "      <td>1.000033e+00</td>\n",
       "      <td>...</td>\n",
       "      <td>0.350178</td>\n",
       "      <td>0.350312</td>\n",
       "      <td>0.348629</td>\n",
       "      <td>0.350981</td>\n",
       "      <td>0.353171</td>\n",
       "      <td>0.348764</td>\n",
       "      <td>0.348629</td>\n",
       "      <td>0.353697</td>\n",
       "      <td>0.352112</td>\n",
       "      <td>0.347612</td>\n",
       "    </tr>\n",
       "    <tr>\n",
       "      <th>min</th>\n",
       "      <td>-2.261141e+00</td>\n",
       "      <td>-2.215950e+00</td>\n",
       "      <td>-1.584934e+00</td>\n",
       "      <td>-1.707110e+00</td>\n",
       "      <td>-4.663740e+00</td>\n",
       "      <td>-5.537397e-01</td>\n",
       "      <td>-2.718619e+00</td>\n",
       "      <td>-1.515409e+00</td>\n",
       "      <td>-1.228109e+00</td>\n",
       "      <td>-1.158787e+00</td>\n",
       "      <td>...</td>\n",
       "      <td>0.000000</td>\n",
       "      <td>0.000000</td>\n",
       "      <td>0.000000</td>\n",
       "      <td>0.000000</td>\n",
       "      <td>0.000000</td>\n",
       "      <td>0.000000</td>\n",
       "      <td>0.000000</td>\n",
       "      <td>0.000000</td>\n",
       "      <td>0.000000</td>\n",
       "      <td>0.000000</td>\n",
       "    </tr>\n",
       "    <tr>\n",
       "      <th>25%</th>\n",
       "      <td>-7.377646e-01</td>\n",
       "      <td>-8.822386e-01</td>\n",
       "      <td>-1.584934e+00</td>\n",
       "      <td>-1.017864e+00</td>\n",
       "      <td>-5.121380e-01</td>\n",
       "      <td>-5.537397e-01</td>\n",
       "      <td>-6.676939e-01</td>\n",
       "      <td>-1.515409e+00</td>\n",
       "      <td>-1.228109e+00</td>\n",
       "      <td>-1.158787e+00</td>\n",
       "      <td>...</td>\n",
       "      <td>0.000000</td>\n",
       "      <td>0.000000</td>\n",
       "      <td>0.000000</td>\n",
       "      <td>0.000000</td>\n",
       "      <td>0.000000</td>\n",
       "      <td>0.000000</td>\n",
       "      <td>0.000000</td>\n",
       "      <td>0.000000</td>\n",
       "      <td>0.000000</td>\n",
       "      <td>0.000000</td>\n",
       "    </tr>\n",
       "    <tr>\n",
       "      <th>50%</th>\n",
       "      <td>-2.088176e-02</td>\n",
       "      <td>6.902543e-03</td>\n",
       "      <td>6.309412e-01</td>\n",
       "      <td>7.419452e-03</td>\n",
       "      <td>1.553744e-01</td>\n",
       "      <td>-5.537397e-01</td>\n",
       "      <td>8.300967e-02</td>\n",
       "      <td>6.598878e-01</td>\n",
       "      <td>8.142602e-01</td>\n",
       "      <td>8.629716e-01</td>\n",
       "      <td>...</td>\n",
       "      <td>0.000000</td>\n",
       "      <td>0.000000</td>\n",
       "      <td>0.000000</td>\n",
       "      <td>0.000000</td>\n",
       "      <td>0.000000</td>\n",
       "      <td>0.000000</td>\n",
       "      <td>0.000000</td>\n",
       "      <td>0.000000</td>\n",
       "      <td>0.000000</td>\n",
       "      <td>0.000000</td>\n",
       "    </tr>\n",
       "    <tr>\n",
       "      <th>75%</th>\n",
       "      <td>6.960010e-01</td>\n",
       "      <td>4.514731e-01</td>\n",
       "      <td>6.309412e-01</td>\n",
       "      <td>1.035959e+00</td>\n",
       "      <td>7.414829e-01</td>\n",
       "      <td>-5.537397e-01</td>\n",
       "      <td>7.066487e-01</td>\n",
       "      <td>6.598878e-01</td>\n",
       "      <td>8.142602e-01</td>\n",
       "      <td>8.629716e-01</td>\n",
       "      <td>...</td>\n",
       "      <td>0.000000</td>\n",
       "      <td>0.000000</td>\n",
       "      <td>0.000000</td>\n",
       "      <td>0.000000</td>\n",
       "      <td>0.000000</td>\n",
       "      <td>0.000000</td>\n",
       "      <td>0.000000</td>\n",
       "      <td>0.000000</td>\n",
       "      <td>0.000000</td>\n",
       "      <td>0.000000</td>\n",
       "    </tr>\n",
       "    <tr>\n",
       "      <th>max</th>\n",
       "      <td>2.846649e+00</td>\n",
       "      <td>4.897179e+00</td>\n",
       "      <td>6.309412e-01</td>\n",
       "      <td>1.208861e+00</td>\n",
       "      <td>1.718330e+00</td>\n",
       "      <td>1.805903e+00</td>\n",
       "      <td>2.745160e+00</td>\n",
       "      <td>6.598878e-01</td>\n",
       "      <td>8.142602e-01</td>\n",
       "      <td>8.629716e-01</td>\n",
       "      <td>...</td>\n",
       "      <td>1.000000</td>\n",
       "      <td>1.000000</td>\n",
       "      <td>1.000000</td>\n",
       "      <td>1.000000</td>\n",
       "      <td>1.000000</td>\n",
       "      <td>1.000000</td>\n",
       "      <td>1.000000</td>\n",
       "      <td>1.000000</td>\n",
       "      <td>1.000000</td>\n",
       "      <td>1.000000</td>\n",
       "    </tr>\n",
       "  </tbody>\n",
       "</table>\n",
       "<p>8 rows × 36 columns</p>\n",
       "</div>"
      ],
      "text/plain": [
       "       num__age_of_driver  num__age_of_vehicle  num__marital_status  \\\n",
       "count        1.520000e+04         1.520000e+04         1.520000e+04   \n",
       "mean        -4.543734e-16         1.776357e-16         3.622833e-17   \n",
       "std          1.000033e+00         1.000033e+00         1.000033e+00   \n",
       "min         -2.261141e+00        -2.215950e+00        -1.584934e+00   \n",
       "25%         -7.377646e-01        -8.822386e-01        -1.584934e+00   \n",
       "50%         -2.088176e-02         6.902543e-03         6.309412e-01   \n",
       "75%          6.960010e-01         4.514731e-01         6.309412e-01   \n",
       "max          2.846649e+00         4.897179e+00         6.309412e-01   \n",
       "\n",
       "       num__zip_code  num__safty_rating  num__witness_present_ind  \\\n",
       "count   1.520000e+04       1.520000e+04              1.520000e+04   \n",
       "mean   -1.168656e-17      -1.065814e-16              3.739699e-17   \n",
       "std     1.000033e+00       1.000033e+00              1.000033e+00   \n",
       "min    -1.707110e+00      -4.663740e+00             -5.537397e-01   \n",
       "25%    -1.017864e+00      -5.121380e-01             -5.537397e-01   \n",
       "50%     7.419452e-03       1.553744e-01             -5.537397e-01   \n",
       "75%     1.035959e+00       7.414829e-01             -5.537397e-01   \n",
       "max     1.208861e+00       1.718330e+00              1.805903e+00   \n",
       "\n",
       "       num__annual_income  num__high_education_ind  \\\n",
       "count        1.520000e+04             1.520000e+04   \n",
       "mean         2.731850e-15             4.207161e-18   \n",
       "std          1.000033e+00             1.000033e+00   \n",
       "min         -2.718619e+00            -1.515409e+00   \n",
       "25%         -6.676939e-01            -1.515409e+00   \n",
       "50%          8.300967e-02             6.598878e-01   \n",
       "75%          7.066487e-01             6.598878e-01   \n",
       "max          2.745160e+00             6.598878e-01   \n",
       "\n",
       "       num__policy_report_filed_ind  num__address_change_ind  ...  \\\n",
       "count                  1.520000e+04             1.520000e+04  ...   \n",
       "mean                  -5.983518e-17            -6.591219e-17  ...   \n",
       "std                    1.000033e+00             1.000033e+00  ...   \n",
       "min                   -1.228109e+00            -1.158787e+00  ...   \n",
       "25%                   -1.228109e+00            -1.158787e+00  ...   \n",
       "50%                    8.142602e-01             8.629716e-01  ...   \n",
       "75%                    8.142602e-01             8.629716e-01  ...   \n",
       "max                    8.142602e-01             8.629716e-01  ...   \n",
       "\n",
       "       cat__vehicle_color_other  cat__vehicle_color_red  \\\n",
       "count              15200.000000            15200.000000   \n",
       "mean                   0.143092                0.143224   \n",
       "std                    0.350178                0.350312   \n",
       "min                    0.000000                0.000000   \n",
       "25%                    0.000000                0.000000   \n",
       "50%                    0.000000                0.000000   \n",
       "75%                    0.000000                0.000000   \n",
       "max                    1.000000                1.000000   \n",
       "\n",
       "       cat__vehicle_color_silver  cat__vehicle_color_white  \\\n",
       "count               15200.000000              15200.000000   \n",
       "mean                    0.141579                  0.143882   \n",
       "std                     0.348629                  0.350981   \n",
       "min                     0.000000                  0.000000   \n",
       "25%                     0.000000                  0.000000   \n",
       "50%                     0.000000                  0.000000   \n",
       "75%                     0.000000                  0.000000   \n",
       "max                     1.000000                  1.000000   \n",
       "\n",
       "       cat__claim_day_of_week_Monday  cat__claim_day_of_week_Saturday  \\\n",
       "count                   15200.000000                     15200.000000   \n",
       "mean                        0.146053                         0.141711   \n",
       "std                         0.353171                         0.348764   \n",
       "min                         0.000000                         0.000000   \n",
       "25%                         0.000000                         0.000000   \n",
       "50%                         0.000000                         0.000000   \n",
       "75%                         0.000000                         0.000000   \n",
       "max                         1.000000                         1.000000   \n",
       "\n",
       "       cat__claim_day_of_week_Sunday  cat__claim_day_of_week_Thursday  \\\n",
       "count                   15200.000000                     15200.000000   \n",
       "mean                        0.141579                         0.146579   \n",
       "std                         0.348629                         0.353697   \n",
       "min                         0.000000                         0.000000   \n",
       "25%                         0.000000                         0.000000   \n",
       "50%                         0.000000                         0.000000   \n",
       "75%                         0.000000                         0.000000   \n",
       "max                         1.000000                         1.000000   \n",
       "\n",
       "       cat__claim_day_of_week_Tuesday  cat__claim_day_of_week_Wednesday  \n",
       "count                    15200.000000                      15200.000000  \n",
       "mean                         0.145000                          0.140592  \n",
       "std                          0.352112                          0.347612  \n",
       "min                          0.000000                          0.000000  \n",
       "25%                          0.000000                          0.000000  \n",
       "50%                          0.000000                          0.000000  \n",
       "75%                          0.000000                          0.000000  \n",
       "max                          1.000000                          1.000000  \n",
       "\n",
       "[8 rows x 36 columns]"
      ]
     },
     "execution_count": 18,
     "metadata": {},
     "output_type": "execute_result"
    }
   ],
   "source": [
    "x_train_scaled.describe()\n"
   ]
  },
  {
   "cell_type": "code",
   "execution_count": 19,
   "id": "cb913107-f14d-43bb-a7f9-1d75de569ebe",
   "metadata": {},
   "outputs": [
    {
     "name": "stderr",
     "output_type": "stream",
     "text": [
      "/usr/local/lib/python3.9/site-packages/sklearn/base.py:474: FutureWarning: `BaseEstimator._validate_data` is deprecated in 1.6 and will be removed in 1.7. Use `sklearn.utils.validation.validate_data` instead. This function becomes public and is part of the scikit-learn developer API.\n",
      "  warnings.warn(\n"
     ]
    },
    {
     "data": {
      "text/plain": [
       "fraud\n",
       "0    12857\n",
       "1    12857\n",
       "Name: count, dtype: int64"
      ]
     },
     "execution_count": 19,
     "metadata": {},
     "output_type": "execute_result"
    }
   ],
   "source": [
    "oversample=SVMSMOTE(random_state=1)\n",
    "x_train_balenced,y_train_balenced=oversample.fit_resample(x_train_scaled,y_train)\n",
    "\n",
    "pd.Series(y_train_balenced).value_counts()"
   ]
  },
  {
   "cell_type": "code",
   "execution_count": 20,
   "id": "d2a789e1-e953-410c-852c-49fb190be634",
   "metadata": {},
   "outputs": [
    {
     "name": "stderr",
     "output_type": "stream",
     "text": [
      "/tmp/ipykernel_27/2891032263.py:10: UserWarning: set_ticklabels() should only be used with a fixed number of ticks, i.e. after set_ticks() or using a FixedLocator.\n",
      "  plot.set_xticklabels([gender_labels[int(float(item.get_text()))] for item in plot.get_xticklabels()])\n"
     ]
    },
    {
     "data": {
      "image/png": "[encoded data removed]",
      "text/plain": [
       "<Figure size 700x500 with 1 Axes>"
      ]
     },
     "metadata": {},
     "output_type": "display_data"
    }
   ],
   "source": [
    "gender_labels={0:'Female',1:'Male'}\n",
    "\n",
    "data=pd.concat([x_train_scaled,y_train.reset_index(drop=True)],axis=1)\n",
    "\n",
    "plt.figure(figsize=(7,5))\n",
    "plot=sns.countplot(x='cat__gender_M',hue='fraud',data=data)\n",
    "plt.title(\"Fraud distribution by gender\")\n",
    "plt.xlabel(\"Gender\")\n",
    "plt.ylabel(\"Count\")\n",
    "plot.set_xticklabels([gender_labels[int(float(item.get_text()))] for item in plot.get_xticklabels()])\n",
    "\n",
    "handles, labels = plot.get_legend_handles_labels()\n",
    "plot.legend(handles, ['No', 'Yes'], title='Fraud')\n",
    "\n",
    "plt.tight_layout() \n",
    "plt.show()"
   ]
  },
  {
   "cell_type": "code",
   "execution_count": 21,
   "id": "35252196-7c32-44a4-abec-2c00236e76a6",
   "metadata": {},
   "outputs": [
    {
     "data": {
      "image/png": "[encoded data removed]",
      "text/plain": [
       "<Figure size 700x500 with 1 Axes>"
      ]
     },
     "metadata": {},
     "output_type": "display_data"
    }
   ],
   "source": [
    "data=pd.concat([x_train,y_train],axis=1)\n",
    "\n",
    "plt.figure(figsize=(7,5))\n",
    "plot=sns.countplot(x='accident_site',hue='fraud',data=data)\n",
    "plt.xlabel(\"Accident site\")\n",
    "plt.ylabel(\"Fraud count\")\n",
    "plt.title(\"Accident distribution by fraud\")\n",
    "\n",
    "handles, labels = plot.get_legend_handles_labels()\n",
    "plot.legend(handles, ['No', 'Yes'], title='Fraud')\n",
    "\n",
    "plt.tight_layout() \n",
    "plt.show()"
   ]
  },
  {
   "cell_type": "code",
   "execution_count": 22,
   "id": "554faeed-e50e-404e-970a-ae8e43c29c2b",
   "metadata": {},
   "outputs": [
    {
     "data": {
      "image/png": "[encoded data removed]",
      "text/plain": [
       "<Figure size 1000x500 with 1 Axes>"
      ]
     },
     "metadata": {},
     "output_type": "display_data"
    }
   ],
   "source": [
    "data['age_groups'] = pd.cut(\n",
    "    x_train['age_of_driver'],\n",
    "    bins=[17, 30, 45, 55, 65, 100],\n",
    "    labels=['18-30', '31-45', '46-55', '56-65', '66+']\n",
    ")\n",
    "\n",
    "plt.figure(figsize=(10,5))\n",
    "plot=sns.countplot(x='age_groups',hue='fraud',data=data)\n",
    "plt.xlabel('Age groups')\n",
    "plt.ylabel('Fraud counts')\n",
    "\n",
    "handeles,labels=plot.get_legend_handles_labels()\n",
    "plot.legend(handles,['No','Yes'],title=\"Fraud\")\n",
    "\n",
    "plt.tight_layout()  \n",
    "plt.show()\n"
   ]
  },
  {
   "cell_type": "code",
   "execution_count": 23,
   "id": "5906a793-43f8-4009-8b7b-bbebfe8aaa75",
   "metadata": {},
   "outputs": [
    {
     "name": "stderr",
     "output_type": "stream",
     "text": [
      "/tmp/ipykernel_27/3276591608.py:8: UserWarning: set_ticklabels() should only be used with a fixed number of ticks, i.e. after set_ticks() or using a FixedLocator.\n",
      "  plot.set_xticklabels([fraud_labels[int(item.get_text())] for item in plot.get_xticklabels()])\n"
     ]
    },
    {
     "data": {
      "image/png": "[encoded data removed]",
      "text/plain": [
       "<Figure size 800x500 with 1 Axes>"
      ]
     },
     "metadata": {},
     "output_type": "display_data"
    }
   ],
   "source": [
    "fraud_labels={0:'No',1:'Yes'}\n",
    "\n",
    "plt.subplots(figsize=(8, 5))\n",
    "plot=sns.boxplot(x='fraud',y=\"annual_income\",data=data)\n",
    "plt.title('Annual Income by Fraud Status (X Scaled)')\n",
    "plt.xlabel('Fraud')\n",
    "plt.ylabel('Annual Income')\n",
    "plot.set_xticklabels([fraud_labels[int(item.get_text())] for item in plot.get_xticklabels()])\n",
    "\n",
    "plt.tight_layout()  \n",
    "plt.show()"
   ]
  },
  {
   "cell_type": "code",
   "execution_count": 24,
   "id": "8eff8c5b-5baf-4bb0-89c2-358704a88f94",
   "metadata": {},
   "outputs": [
    {
     "data": {
      "text/plain": [
       "[Text(0, 0, 'No'), Text(1, 0, 'Yes')]"
      ]
     },
     "execution_count": 24,
     "metadata": {},
     "output_type": "execute_result"
    }
   ],
   "source": [
    "plot.get_xticklabels()"
   ]
  },
  {
   "cell_type": "markdown",
   "id": "eace5226-e42b-429a-97a3-bcad2086ad9a",
   "metadata": {},
   "source": [
    "# Model Def"
   ]
  },
  {
   "cell_type": "code",
   "execution_count": 25,
   "id": "4c2b83d9-4712-4819-9476-73da5f612506",
   "metadata": {},
   "outputs": [
    {
     "data": {
      "text/plain": [
       "((25714, 36), (25714,))"
      ]
     },
     "execution_count": 25,
     "metadata": {},
     "output_type": "execute_result"
    }
   ],
   "source": [
    "x_train_balenced.shape,y_train_balenced.shape"
   ]
  },
  {
   "cell_type": "code",
   "execution_count": 26,
   "id": "378244e2-7a15-4544-b04b-680764850929",
   "metadata": {},
   "outputs": [
    {
     "data": {
      "text/plain": [
       "((3800, 36), (3800,))"
      ]
     },
     "execution_count": 26,
     "metadata": {},
     "output_type": "execute_result"
    }
   ],
   "source": [
    "x_test_scaled.shape,y_test.shape"
   ]
  },
  {
   "cell_type": "markdown",
   "id": "18b6a4bd-657c-4ea3-a720-792ac081eb19",
   "metadata": {},
   "source": [
    "- XGBOOST & GridSearchCV"
   ]
  },
  {
   "cell_type": "code",
   "execution_count": 27,
   "id": "47fc2eef-7100-4c3d-8e46-a5b9f1864457",
   "metadata": {},
   "outputs": [
    {
     "name": "stdout",
     "output_type": "stream",
     "text": [
      "Best score (F1) : 0.8369452073609012\n",
      "Best parametres : {'learning_rate': 0.1, 'max_depth': 20, 'n_estimators': 30}\n"
     ]
    }
   ],
   "source": [
    "xgb_model=xgb.XGBClassifier(random_state=1)\n",
    "\n",
    "grid_params_xgb={\n",
    "    'n_estimators':[20,30,50,70,100],\n",
    "    'learning_rate':[.1,.3],\n",
    "    'max_depth':[2,3,7,20],\n",
    "}\n",
    "\n",
    "grid_search_xgb=GridSearchCV(\n",
    "    estimator=xgb_model,\n",
    "    param_grid=grid_params_xgb,\n",
    "    cv=5, \n",
    "    scoring='f1'\n",
    ")\n",
    "\n",
    "grid_search_xgb.fit(x_train_balenced,y_train_balenced)\n",
    "\n",
    "best_score=grid_search_xgb.best_score_\n",
    "best_estimator=grid_search_xgb.best_estimator_\n",
    "best_params=grid_search_xgb.best_params_\n",
    "\n",
    "\n",
    "print(f\"Best score (F1) : {best_score}\")\n",
    "print(f\"Best parametres : {best_params}\")"
   ]
  },
  {
   "cell_type": "markdown",
   "id": "a09a410c-6178-4390-ad1f-2de3c5678342",
   "metadata": {},
   "source": [
    "- Results"
   ]
  },
  {
   "cell_type": "code",
   "execution_count": 28,
   "id": "6a34f605-b7c9-4de9-bd3a-2c22de98d155",
   "metadata": {},
   "outputs": [
    {
     "name": "stdout",
     "output_type": "stream",
     "text": [
      "Training F1 score 0.9986388730221312\n",
      "testing F1 score 0.7877075585588003\n",
      "Classification Report on test Data\n",
      "              precision    recall  f1-score   support\n",
      "\n",
      "           0       0.85      0.96      0.90      3205\n",
      "           1       0.34      0.10      0.16       595\n",
      "\n",
      "    accuracy                           0.83      3800\n",
      "   macro avg       0.60      0.53      0.53      3800\n",
      "weighted avg       0.77      0.83      0.79      3800\n",
      "\n"
     ]
    }
   ],
   "source": [
    "train_predictions=best_estimator.predict(x_train_balenced)\n",
    "test_predictions=best_estimator.predict(x_test_scaled)\n",
    "\n",
    "#F1 SCORES\n",
    "train_f1_score=f1_score(y_train_balenced,train_predictions, average='weighted')\n",
    "test_f1_score=f1_score(y_test,test_predictions, average='weighted')\n",
    "\n",
    "print(f\"Training F1 score {train_f1_score}\")\n",
    "print(f\"testing F1 score {test_f1_score}\")\n",
    "\n",
    "\n",
    "#Classification Report on test Data\n",
    "print(\"Classification Report on test Data\")\n",
    "print(classification_report(y_test,test_predictions))\n"
   ]
  },
  {
   "cell_type": "markdown",
   "id": "8f362402-3bdf-4210-8e7d-8baaf19885b1",
   "metadata": {},
   "source": [
    "- Confusion Matrix"
   ]
  },
  {
   "cell_type": "code",
   "execution_count": 29,
   "id": "d40cee73-b801-40b5-9e05-94e2af3f96e7",
   "metadata": {},
   "outputs": [
    {
     "data": {
      "image/png": "[encoded data removed]",
      "text/plain": [
       "<Figure size 500x400 with 2 Axes>"
      ]
     },
     "metadata": {},
     "output_type": "display_data"
    }
   ],
   "source": [
    "confusion_matrix=confusion_matrix(y_test,test_predictions)\n",
    "\n",
    "plt.figure(figsize=(5,4))\n",
    "sns.heatmap(confusion_matrix,annot=True, fmt='d', cmap='Blues',)\n",
    "plt.title(\"confusion Matrix\")\n",
    "plt.xlabel(\"Predictions\")\n",
    "plt.ylabel(\"Truth\")\n",
    "\n",
    "plt.tight_layout()\n",
    "plt.show()"
   ]
  },
  {
   "cell_type": "markdown",
   "id": "8bacb44a-c375-4f3a-b010-6f7a7b6de112",
   "metadata": {},
   "source": [
    "- Extracting most imoprtant features"
   ]
  },
  {
   "cell_type": "code",
   "execution_count": 30,
   "id": "ee922202-051c-459a-82fe-0be26761e682",
   "metadata": {},
   "outputs": [
    {
     "name": "stdout",
     "output_type": "stream",
     "text": [
      "Top Features by Importance:\n",
      "1. [num__high_education_ind] : 0.41279447078704834\n",
      "2. [num__past_num_of_claims] : 0.11115045100450516\n",
      "3. [cat__gender_M] : 0.06717538088560104\n",
      "4. [num__address_change_ind] : 0.038889527320861816\n",
      "5. [num__witness_present_ind] : 0.03771427646279335\n",
      "6. [num__marital_status] : 0.020459389314055443\n",
      "7. [cat__channel_Phone] : 0.020230039954185486\n",
      "8. [cat__accident_site_Parking Lot] : 0.019202467054128647\n",
      "9. [cat__living_status_Rent] : 0.017699461430311203\n",
      "10. [cat__vehicle_category_Medium] : 0.013708977960050106\n"
     ]
    }
   ],
   "source": [
    "importance=best_estimator.feature_importances_\n",
    "sorted_indices = np.argsort(importance)[::-1] \n",
    "features_names=preprocessor.get_feature_names_out()\n",
    "\n",
    "top_n = 10\n",
    "sorted_features_importance = [features_names[i] for i in sorted_indices[:top_n]]\n",
    "\n",
    "print(\"Top Features by Importance:\")\n",
    "for i, feature in enumerate(sorted_features_importance):\n",
    "    print(f\"{i+1}. [{feature}] : {importance[sorted_indices[i]]}\")"
   ]
  },
  {
   "cell_type": "code",
   "execution_count": 31,
   "id": "d93b716d-b172-41a4-9a97-4940a0de3e36",
   "metadata": {},
   "outputs": [
    {
     "data": {
      "image/png": "[encoded data removed]",
      "text/plain": [
       "<Figure size 1500x700 with 1 Axes>"
      ]
     },
     "metadata": {},
     "output_type": "display_data"
    }
   ],
   "source": [
    "plt.figure(figsize=(15,7))\n",
    "plt.barh(sorted_features_importance,importance[sorted_indices[:top_n]], color='skyblue')\n",
    "plt.xlabel('Feature Importance')\n",
    "plt.ylabel('Feature Name')\n",
    "plt.title(\"Top 10 Feature Importances in XGBoost\")\n",
    "\n",
    "plt.show()\n"
   ]
  },
  {
   "cell_type": "markdown",
   "id": "1b19a792-bb98-4b5e-8720-13713cf39fb1",
   "metadata": {},
   "source": [
    "- trainning the Model using only the most 10 important features"
   ]
  },
  {
   "cell_type": "code",
   "execution_count": 32,
   "id": "df3c8396-e47c-4b91-ab72-991518a67a9f",
   "metadata": {},
   "outputs": [],
   "source": [
    "x_train_selected=x_train_balenced.iloc[:,sorted_indices[:10]]\n",
    "x_test_selected=x_test_scaled.iloc[:,sorted_indices[:10]]\n",
    "\n",
    "xgb_model_selected=xgb.XGBClassifier(**best_params,random_state=1)\n",
    "xgb_model_selected.fit(x_train_selected, y_train_balenced)\n",
    "\n",
    "train_predictions=xgb_model_selected.predict(x_train_selected)\n",
    "test_predictions=xgb_model_selected.predict(x_test_selected)\n",
    "\n",
    "train_f1_score=f1_score(y_train_balenced, train_predictions, average='weighted')  \n",
    "test_f1_score=f1_score(y_test, test_predictions, average='weighted')  "
   ]
  },
  {
   "cell_type": "code",
   "execution_count": 35,
   "id": "13c57994-e3be-478a-a04c-6d9be31fd8c3",
   "metadata": {
    "scrolled": true
   },
   "outputs": [
    {
     "data": {
      "text/html": [
       "<div>\n",
       "<style scoped>\n",
       "    .dataframe tbody tr th:only-of-type {\n",
       "        vertical-align: middle;\n",
       "    }\n",
       "\n",
       "    .dataframe tbody tr th {\n",
       "        vertical-align: top;\n",
       "    }\n",
       "\n",
       "    .dataframe thead th {\n",
       "        text-align: right;\n",
       "    }\n",
       "</style>\n",
       "<table border=\"1\" class=\"dataframe\">\n",
       "  <thead>\n",
       "    <tr style=\"text-align: right;\">\n",
       "      <th></th>\n",
       "      <th>num__high_education_ind</th>\n",
       "      <th>num__past_num_of_claims</th>\n",
       "      <th>cat__gender_M</th>\n",
       "      <th>num__address_change_ind</th>\n",
       "      <th>num__witness_present_ind</th>\n",
       "      <th>num__marital_status</th>\n",
       "      <th>cat__channel_Phone</th>\n",
       "      <th>cat__accident_site_Parking Lot</th>\n",
       "      <th>cat__living_status_Rent</th>\n",
       "      <th>cat__vehicle_category_Medium</th>\n",
       "    </tr>\n",
       "  </thead>\n",
       "  <tbody>\n",
       "    <tr>\n",
       "      <th>0</th>\n",
       "      <td>0.659888</td>\n",
       "      <td>0.521397</td>\n",
       "      <td>1.0</td>\n",
       "      <td>-1.158787</td>\n",
       "      <td>1.805903</td>\n",
       "      <td>0.630941</td>\n",
       "      <td>0.0</td>\n",
       "      <td>0.0</td>\n",
       "      <td>1.0</td>\n",
       "      <td>0.0</td>\n",
       "    </tr>\n",
       "    <tr>\n",
       "      <th>1</th>\n",
       "      <td>0.659888</td>\n",
       "      <td>-0.526361</td>\n",
       "      <td>1.0</td>\n",
       "      <td>0.862972</td>\n",
       "      <td>-0.553740</td>\n",
       "      <td>0.630941</td>\n",
       "      <td>1.0</td>\n",
       "      <td>0.0</td>\n",
       "      <td>1.0</td>\n",
       "      <td>1.0</td>\n",
       "    </tr>\n",
       "    <tr>\n",
       "      <th>2</th>\n",
       "      <td>0.659888</td>\n",
       "      <td>-0.526361</td>\n",
       "      <td>0.0</td>\n",
       "      <td>-1.158787</td>\n",
       "      <td>-0.553740</td>\n",
       "      <td>0.630941</td>\n",
       "      <td>0.0</td>\n",
       "      <td>1.0</td>\n",
       "      <td>0.0</td>\n",
       "      <td>0.0</td>\n",
       "    </tr>\n",
       "    <tr>\n",
       "      <th>3</th>\n",
       "      <td>0.659888</td>\n",
       "      <td>0.521397</td>\n",
       "      <td>0.0</td>\n",
       "      <td>-1.158787</td>\n",
       "      <td>1.805903</td>\n",
       "      <td>0.630941</td>\n",
       "      <td>0.0</td>\n",
       "      <td>0.0</td>\n",
       "      <td>1.0</td>\n",
       "      <td>0.0</td>\n",
       "    </tr>\n",
       "    <tr>\n",
       "      <th>4</th>\n",
       "      <td>-1.515409</td>\n",
       "      <td>-0.526361</td>\n",
       "      <td>0.0</td>\n",
       "      <td>0.862972</td>\n",
       "      <td>-0.553740</td>\n",
       "      <td>0.630941</td>\n",
       "      <td>1.0</td>\n",
       "      <td>0.0</td>\n",
       "      <td>0.0</td>\n",
       "      <td>0.0</td>\n",
       "    </tr>\n",
       "  </tbody>\n",
       "</table>\n",
       "</div>"
      ],
      "text/plain": [
       "   num__high_education_ind  num__past_num_of_claims  cat__gender_M  \\\n",
       "0                 0.659888                 0.521397            1.0   \n",
       "1                 0.659888                -0.526361            1.0   \n",
       "2                 0.659888                -0.526361            0.0   \n",
       "3                 0.659888                 0.521397            0.0   \n",
       "4                -1.515409                -0.526361            0.0   \n",
       "\n",
       "   num__address_change_ind  num__witness_present_ind  num__marital_status  \\\n",
       "0                -1.158787                  1.805903             0.630941   \n",
       "1                 0.862972                 -0.553740             0.630941   \n",
       "2                -1.158787                 -0.553740             0.630941   \n",
       "3                -1.158787                  1.805903             0.630941   \n",
       "4                 0.862972                 -0.553740             0.630941   \n",
       "\n",
       "   cat__channel_Phone  cat__accident_site_Parking Lot  \\\n",
       "0                 0.0                             0.0   \n",
       "1                 1.0                             0.0   \n",
       "2                 0.0                             1.0   \n",
       "3                 0.0                             0.0   \n",
       "4                 1.0                             0.0   \n",
       "\n",
       "   cat__living_status_Rent  cat__vehicle_category_Medium  \n",
       "0                      1.0                           0.0  \n",
       "1                      1.0                           1.0  \n",
       "2                      0.0                           0.0  \n",
       "3                      1.0                           0.0  \n",
       "4                      0.0                           0.0  "
      ]
     },
     "execution_count": 35,
     "metadata": {},
     "output_type": "execute_result"
    }
   ],
   "source": [
    "x_train_selected.head()"
   ]
  },
  {
   "cell_type": "code",
   "execution_count": 33,
   "id": "247d3815-18d9-4626-84db-265558df9707",
   "metadata": {},
   "outputs": [
    {
     "name": "stdout",
     "output_type": "stream",
     "text": [
      "Training F1 score: 0.8937069934327049\n",
      "Testing F1 score: 0.7794845799012242\n",
      "Classification Report on test Data\n",
      "              precision    recall  f1-score   support\n",
      "\n",
      "           0       0.85      0.97      0.91      3205\n",
      "           1       0.29      0.06      0.10       595\n",
      "\n",
      "    accuracy                           0.83      3800\n",
      "   macro avg       0.57      0.52      0.50      3800\n",
      "weighted avg       0.76      0.83      0.78      3800\n",
      "\n"
     ]
    }
   ],
   "source": [
    "train_predictions=xgb_model_selected.predict(x_train_selected)\n",
    "test_predictions=xgb_model_selected.predict(x_test_selected)\n",
    "\n",
    "#F1 SCORES\n",
    "train_f1_score=f1_score(y_train_balenced,train_predictions, average='weighted')\n",
    "test_f1_score=f1_score(y_test,test_predictions, average='weighted')\n",
    "\n",
    "print(f\"Training F1 score: {train_f1_score}\")\n",
    "print(f\"Testing F1 score: {test_f1_score}\")\n",
    "\n",
    "\n",
    "#Classification Report on test Data\n",
    "print(\"Classification Report on test Data\")\n",
    "print(classification_report(y_test,test_predictions))"
   ]
  },
  {
   "cell_type": "markdown",
   "id": "ba3ff13f-7667-498e-8a6c-29c9238d5b75",
   "metadata": {},
   "source": [
    "# Exporting features infos \"mean,mode,deviation\""
   ]
  },
  {
   "cell_type": "code",
   "execution_count": 31,
   "id": "b54f0574-c9df-4890-afc3-97a2456a3ef8",
   "metadata": {},
   "outputs": [
    {
     "data": {
      "text/plain": [
       "array(['num__age_of_driver', 'num__age_of_vehicle', 'num__marital_status',\n",
       "       'num__zip_code', 'num__safty_rating', 'num__witness_present_ind',\n",
       "       'num__annual_income', 'num__high_education_ind',\n",
       "       'num__policy_report_filed_ind', 'num__address_change_ind',\n",
       "       'num__past_num_of_claims', 'num__liab_prct',\n",
       "       'num__claim_est_payout', 'num__vehicle_price',\n",
       "       'num__vehicle_weight', 'num__claim_day_of_year', 'cat__gender_M',\n",
       "       'cat__living_status_Rent', 'cat__accident_site_Local',\n",
       "       'cat__accident_site_Parking Lot', 'cat__channel_Online',\n",
       "       'cat__channel_Phone', 'cat__vehicle_category_Large',\n",
       "       'cat__vehicle_category_Medium', 'cat__vehicle_color_blue',\n",
       "       'cat__vehicle_color_gray', 'cat__vehicle_color_other',\n",
       "       'cat__vehicle_color_red', 'cat__vehicle_color_silver',\n",
       "       'cat__vehicle_color_white', 'cat__claim_day_of_week_Monday',\n",
       "       'cat__claim_day_of_week_Saturday', 'cat__claim_day_of_week_Sunday',\n",
       "       'cat__claim_day_of_week_Thursday',\n",
       "       'cat__claim_day_of_week_Tuesday',\n",
       "       'cat__claim_day_of_week_Wednesday'], dtype=object)"
      ]
     },
     "execution_count": 31,
     "metadata": {},
     "output_type": "execute_result"
    }
   ],
   "source": [
    "preprocessor.get_feature_names_out()"
   ]
  },
  {
   "cell_type": "code",
   "execution_count": 30,
   "id": "74e24fd2-2fd3-4527-983c-49e1aa4575f8",
   "metadata": {},
   "outputs": [
    {
     "data": {
      "text/plain": [
       "array([4.32330285e+01, 4.98447368e+00, 7.15263158e-01, 4.98105132e+04,\n",
       "       7.36141447e+01, 2.34671053e-01, 3.73826561e+04, 6.96644737e-01,\n",
       "       6.01315789e-01, 5.73157895e-01, 5.02368421e-01, 4.92113158e+01,\n",
       "       4.99332501e+03, 2.30027268e+04, 2.29952631e+04, 1.81807763e+02])"
      ]
     },
     "execution_count": 30,
     "metadata": {},
     "output_type": "execute_result"
    }
   ],
   "source": [
    "preprocessor.named_transformers_['num'].mean_"
   ]
  },
  {
   "cell_type": "code",
   "execution_count": 37,
   "id": "c7117d09-8bbb-4e60-922b-b9a8e6b4357f",
   "metadata": {},
   "outputs": [
    {
     "data": {
      "text/plain": [
       "Index(['age_of_driver', 'gender', 'marital_status', 'safty_rating',\n",
       "       'annual_income', 'high_education_ind', 'address_change_ind',\n",
       "       'living_status', 'zip_code', 'claim_date', 'claim_day_of_week',\n",
       "       'accident_site', 'past_num_of_claims', 'witness_present_ind',\n",
       "       'liab_prct', 'channel', 'policy_report_filed_ind', 'claim_est_payout',\n",
       "       'age_of_vehicle', 'vehicle_category', 'vehicle_price', 'vehicle_color',\n",
       "       'vehicle_weight', 'claim_day_of_year'],\n",
       "      dtype='object')"
      ]
     },
     "execution_count": 37,
     "metadata": {},
     "output_type": "execute_result"
    }
   ],
   "source": [
    "preprocessor.named_transformers_['num'].scale_"
   ]
  },
  {
   "cell_type": "code",
   "execution_count": 39,
   "id": "4be3f1d2-c761-47f7-9722-0cdb3d737d95",
   "metadata": {},
   "outputs": [
    {
     "data": {
      "text/html": [
       "<div>\n",
       "<style scoped>\n",
       "    .dataframe tbody tr th:only-of-type {\n",
       "        vertical-align: middle;\n",
       "    }\n",
       "\n",
       "    .dataframe tbody tr th {\n",
       "        vertical-align: top;\n",
       "    }\n",
       "\n",
       "    .dataframe thead th {\n",
       "        text-align: right;\n",
       "    }\n",
       "</style>\n",
       "<table border=\"1\" class=\"dataframe\">\n",
       "  <thead>\n",
       "    <tr style=\"text-align: right;\">\n",
       "      <th></th>\n",
       "      <th>age_of_driver</th>\n",
       "      <th>age_of_vehicle</th>\n",
       "      <th>marital_status</th>\n",
       "      <th>zip_code</th>\n",
       "      <th>safty_rating</th>\n",
       "      <th>witness_present_ind</th>\n",
       "      <th>annual_income</th>\n",
       "      <th>high_education_ind</th>\n",
       "      <th>policy_report_filed_ind</th>\n",
       "      <th>address_change_ind</th>\n",
       "      <th>past_num_of_claims</th>\n",
       "      <th>liab_prct</th>\n",
       "      <th>claim_est_payout</th>\n",
       "      <th>vehicle_price</th>\n",
       "      <th>vehicle_weight</th>\n",
       "      <th>claim_day_of_year</th>\n",
       "    </tr>\n",
       "  </thead>\n",
       "  <tbody>\n",
       "    <tr>\n",
       "      <th>mean</th>\n",
       "      <td>43.233028</td>\n",
       "      <td>4.984474</td>\n",
       "      <td>0.715263</td>\n",
       "      <td>49810.513224</td>\n",
       "      <td>73.614145</td>\n",
       "      <td>0.234671</td>\n",
       "      <td>37382.656113</td>\n",
       "      <td>0.696645</td>\n",
       "      <td>0.601316</td>\n",
       "      <td>0.573158</td>\n",
       "      <td>0.502368</td>\n",
       "      <td>49.211316</td>\n",
       "      <td>4993.325013</td>\n",
       "      <td>23002.726836</td>\n",
       "      <td>22995.263066</td>\n",
       "      <td>181.807763</td>\n",
       "    </tr>\n",
       "    <tr>\n",
       "      <th>scale</th>\n",
       "      <td>11.159425</td>\n",
       "      <td>2.249362</td>\n",
       "      <td>0.451289</td>\n",
       "      <td>29178.270764</td>\n",
       "      <td>15.355519</td>\n",
       "      <td>0.423793</td>\n",
       "      <td>2738.763944</td>\n",
       "      <td>0.459707</td>\n",
       "      <td>0.489628</td>\n",
       "      <td>0.494619</td>\n",
       "      <td>0.954419</td>\n",
       "      <td>33.572697</td>\n",
       "      <td>2225.576092</td>\n",
       "      <td>12011.252447</td>\n",
       "      <td>12089.716114</td>\n",
       "      <td>105.642222</td>\n",
       "    </tr>\n",
       "  </tbody>\n",
       "</table>\n",
       "</div>"
      ],
      "text/plain": [
       "       age_of_driver  age_of_vehicle  marital_status      zip_code  \\\n",
       "mean       43.233028        4.984474        0.715263  49810.513224   \n",
       "scale      11.159425        2.249362        0.451289  29178.270764   \n",
       "\n",
       "       safty_rating  witness_present_ind  annual_income  high_education_ind  \\\n",
       "mean      73.614145             0.234671   37382.656113            0.696645   \n",
       "scale     15.355519             0.423793    2738.763944            0.459707   \n",
       "\n",
       "       policy_report_filed_ind  address_change_ind  past_num_of_claims  \\\n",
       "mean                  0.601316            0.573158            0.502368   \n",
       "scale                 0.489628            0.494619            0.954419   \n",
       "\n",
       "       liab_prct  claim_est_payout  vehicle_price  vehicle_weight  \\\n",
       "mean   49.211316       4993.325013   23002.726836    22995.263066   \n",
       "scale  33.572697       2225.576092   12011.252447    12089.716114   \n",
       "\n",
       "       claim_day_of_year  \n",
       "mean          181.807763  \n",
       "scale         105.642222  "
      ]
     },
     "execution_count": 39,
     "metadata": {},
     "output_type": "execute_result"
    }
   ],
   "source": [
    "columns=num_features\n",
    "data=[\n",
    "    preprocessor.named_transformers_['num'].mean_,\n",
    "    preprocessor.named_transformers_['num'].scale_\n",
    "]\n",
    "index=['mean','scale']\n",
    "\n",
    "df_ss_info=pd.DataFrame(data,columns=columns,index=index)\n",
    "\n",
    "df_ss_info"
   ]
  },
  {
   "cell_type": "code",
   "execution_count": 42,
   "id": "b560e152-438e-4a0e-855e-c6db71697f41",
   "metadata": {},
   "outputs": [
    {
     "data": {
      "text/html": [
       "<div>\n",
       "<style scoped>\n",
       "    .dataframe tbody tr th:only-of-type {\n",
       "        vertical-align: middle;\n",
       "    }\n",
       "\n",
       "    .dataframe tbody tr th {\n",
       "        vertical-align: top;\n",
       "    }\n",
       "\n",
       "    .dataframe thead th {\n",
       "        text-align: right;\n",
       "    }\n",
       "</style>\n",
       "<table border=\"1\" class=\"dataframe\">\n",
       "  <thead>\n",
       "    <tr style=\"text-align: right;\">\n",
       "      <th></th>\n",
       "      <th>marital_status</th>\n",
       "      <th>witness_present_ind</th>\n",
       "      <th>high_education_ind</th>\n",
       "      <th>past_num_of_claims</th>\n",
       "      <th>address_change_ind</th>\n",
       "    </tr>\n",
       "  </thead>\n",
       "  <tbody>\n",
       "    <tr>\n",
       "      <th>mean</th>\n",
       "      <td>0.715263</td>\n",
       "      <td>0.234671</td>\n",
       "      <td>0.696645</td>\n",
       "      <td>0.502368</td>\n",
       "      <td>0.573158</td>\n",
       "    </tr>\n",
       "    <tr>\n",
       "      <th>scale</th>\n",
       "      <td>0.451289</td>\n",
       "      <td>0.423793</td>\n",
       "      <td>0.459707</td>\n",
       "      <td>0.954419</td>\n",
       "      <td>0.494619</td>\n",
       "    </tr>\n",
       "  </tbody>\n",
       "</table>\n",
       "</div>"
      ],
      "text/plain": [
       "       marital_status  witness_present_ind  high_education_ind  \\\n",
       "mean         0.715263             0.234671            0.696645   \n",
       "scale        0.451289             0.423793            0.459707   \n",
       "\n",
       "       past_num_of_claims  address_change_ind  \n",
       "mean             0.502368            0.573158  \n",
       "scale            0.954419            0.494619  "
      ]
     },
     "execution_count": 42,
     "metadata": {},
     "output_type": "execute_result"
    }
   ],
   "source": [
    "important_columns=['marital_status','witness_present_ind','high_education_ind','past_num_of_claims','address_change_ind']\n",
    "df_ss_info=df_ss_info[important_columns]\n",
    "df_ss_info.to_csv(\"../csv_files/insurance_data_mean_scale.csv\")\n",
    "df_ss_info"
   ]
  },
  {
   "cell_type": "code",
   "execution_count": 18,
   "id": "277fa543-dd98-4bb4-bdf1-88861ab2e201",
   "metadata": {},
   "outputs": [
    {
     "data": {
      "text/html": [
       "<div>\n",
       "<style scoped>\n",
       "    .dataframe tbody tr th:only-of-type {\n",
       "        vertical-align: middle;\n",
       "    }\n",
       "\n",
       "    .dataframe tbody tr th {\n",
       "        vertical-align: top;\n",
       "    }\n",
       "\n",
       "    .dataframe thead th {\n",
       "        text-align: right;\n",
       "    }\n",
       "</style>\n",
       "<table border=\"1\" class=\"dataframe\">\n",
       "  <thead>\n",
       "    <tr style=\"text-align: right;\">\n",
       "      <th></th>\n",
       "      <th>gender</th>\n",
       "      <th>marital_status</th>\n",
       "      <th>channel</th>\n",
       "      <th>accident_site</th>\n",
       "      <th>living_status</th>\n",
       "      <th>vehicle_category</th>\n",
       "    </tr>\n",
       "  </thead>\n",
       "  <tbody>\n",
       "    <tr>\n",
       "      <th>mode</th>\n",
       "      <td>M</td>\n",
       "      <td>1.0</td>\n",
       "      <td>Broker</td>\n",
       "      <td>Local</td>\n",
       "      <td>Own</td>\n",
       "      <td>Compact</td>\n",
       "    </tr>\n",
       "  </tbody>\n",
       "</table>\n",
       "</div>"
      ],
      "text/plain": [
       "     gender  marital_status channel accident_site living_status  \\\n",
       "mode      M             1.0  Broker         Local           Own   \n",
       "\n",
       "     vehicle_category  \n",
       "mode          Compact  "
      ]
     },
     "execution_count": 18,
     "metadata": {},
     "output_type": "execute_result"
    }
   ],
   "source": [
    "df_mode_info=x_train[['gender','marital_status','channel','accident_site','living_status','vehicle_category']].mode()\n",
    "df_mode_info=df_mode_info.rename(index={0:\"mode\"})\n",
    "df_mode_info.to_csv(\"../csv_files/insurance_data_mode.csv\")\n",
    "df_mode_info"
   ]
  },
  {
   "cell_type": "markdown",
   "id": "a6b88560-6d5b-4342-ab1c-83d4d05eefd5",
   "metadata": {},
   "source": [
    "# Serialization"
   ]
  },
  {
   "cell_type": "markdown",
   "id": "744bd7d1-d576-4bec-bdcb-cd1fddd7facd",
   "metadata": {},
   "source": [
    "- Serialiwing the model"
   ]
  },
  {
   "cell_type": "code",
   "execution_count": 65,
   "id": "f56f88db-6f59-458a-9485-65bf61692465",
   "metadata": {},
   "outputs": [
    {
     "data": {
      "text/plain": [
       "['insuranceFraudeModel.pkl']"
      ]
     },
     "execution_count": 65,
     "metadata": {},
     "output_type": "execute_result"
    }
   ],
   "source": [
    "jb.dump(xgb_model_selected,\"insuranceFraudeModel.pkl\")"
   ]
  },
  {
   "cell_type": "markdown",
   "id": "653d8af3-78c5-454a-b85f-a266edce90d6",
   "metadata": {},
   "source": [
    "- Serializing the preprocessor"
   ]
  },
  {
   "cell_type": "code",
   "execution_count": 66,
   "id": "dd6c5584-15ec-4f0d-9cb6-46ddce3cdf6a",
   "metadata": {},
   "outputs": [
    {
     "data": {
      "text/plain": [
       "['preprocessors/insurance_fraud_data_preprocessor.pkl']"
      ]
     },
     "execution_count": 66,
     "metadata": {},
     "output_type": "execute_result"
    }
   ],
   "source": [
    "jb.dump(preprocessor,\"preprocessors/insurance_fraud_data_preprocessor.pkl\")"
   ]
  },
  {
   "cell_type": "code",
   "execution_count": 68,
   "id": "5348f415-e5a2-4f14-863e-0f8c38a5229e",
   "metadata": {},
   "outputs": [
    {
     "data": {
      "text/plain": [
       "Index(['num__high_education_ind', 'num__past_num_of_claims', 'cat__gender_M',\n",
       "       'num__address_change_ind', 'num__witness_present_ind',\n",
       "       'num__marital_status', 'cat__channel_Phone',\n",
       "       'cat__accident_site_Parking Lot', 'cat__living_status_Rent',\n",
       "       'cat__vehicle_category_Medium'],\n",
       "      dtype='object')"
      ]
     },
     "execution_count": 68,
     "metadata": {},
     "output_type": "execute_result"
    }
   ],
   "source": [
    "x_train_selected.columns"
   ]
  },
  {
   "cell_type": "code",
   "execution_count": null,
   "id": "f8cd47f6-07b4-4db6-831e-b82a8fe45c69",
   "metadata": {},
   "outputs": [],
   "source": []
  }
 ],
 "metadata": {
  "kernelspec": {
   "display_name": "Python 3 (ipykernel)",
   "language": "python",
   "name": "python3"
  },
  "language_info": {
   "codemirror_mode": {
    "name": "ipython",
    "version": 3
   },
   "file_extension": ".py",
   "mimetype": "text/x-python",
   "name": "python",
   "nbconvert_exporter": "python",
   "pygments_lexer": "ipython3",
   "version": "3.9.21"
  }
 },
 "nbformat": 4,
 "nbformat_minor": 5
}
