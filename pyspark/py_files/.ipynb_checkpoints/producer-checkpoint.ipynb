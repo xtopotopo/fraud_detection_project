{
 "cells": [
  {
   "cell_type": "code",
   "execution_count": 45,
   "id": "5868dd19-40f5-45a8-9ae1-1d27bf36bd6f",
   "metadata": {},
   "outputs": [
    {
     "name": "stdout",
     "output_type": "stream",
     "text": [
      "Sent data: {'client_id': 'client_8168', 'transaction_id': 'af97941c-cf2e-41d8-9f4a-d04228340d8d', 'type': 'TRANSFER', 'amount': 2816.6733640413754, 'oldbalanceOrg': 2552.4343886880856, 'newbalanceOrig': 5369.107752729461}\n",
      "Sent data: {'client_id': 'client_5060', 'transaction_id': '2edb729c-dac5-4199-a113-a22821753d86', 'type': None, 'amount': 5879.086328873855, 'oldbalanceOrg': 706.382623964022, 'newbalanceOrig': 6585.468952837877}\n",
      "Sent data: {'client_id': 'client_7330', 'transaction_id': 'f892f886-822a-4f03-ab26-e334285ebd09', 'type': None, 'amount': 2686.7404813180415, 'oldbalanceOrg': 264.64900028355277, 'newbalanceOrig': 2951.389481601594}\n",
      "Sent data: {'client_id': 'client_7583', 'transaction_id': '920378b7-204b-4a66-9f17-7fe678d70917', 'type': 'TRANSFER', 'amount': 2515.223700867199, 'oldbalanceOrg': 1050.242149078144, 'newbalanceOrig': 3565.465849945343}\n",
      "Sent data: {'client_id': 'client_3915', 'transaction_id': '77743b5a-f5f5-4c2f-835e-1d56816d15fd', 'type': 'DEBIT', 'amount': 4135.600941334516, 'oldbalanceOrg': 1745.271943846215, 'newbalanceOrig': 5880.872885180732}\n",
      "Sent data: {'client_id': 'client_1406', 'transaction_id': '488ff3a3-231e-43d6-bded-61ff3efae5ae', 'type': None, 'amount': 5751.556319012636, 'oldbalanceOrg': 317.65451079878494, 'newbalanceOrig': 6069.210829811421}\n",
      "Sent data: {'client_id': 'client_8311', 'transaction_id': '6fa9a633-5dbc-4b96-b8c0-09720882aac4', 'type': None, 'amount': 2814.826224173495, 'oldbalanceOrg': 3757.817164803944, 'newbalanceOrig': 6572.643388977439}\n",
      "Sent data: {'client_id': 'client_8753', 'transaction_id': '44ffcc58-d00c-4f11-8601-63c3d45e3479', 'type': None, 'amount': 6505.1991435452055, 'oldbalanceOrg': 513.2459990823685, 'newbalanceOrig': 7018.445142627574}\n",
      "Sent data: {'client_id': 'client_2910', 'transaction_id': 'ad515896-bb1b-4793-81c7-85930326f931', 'type': 'DEBIT', 'amount': 2664.750951523707, 'oldbalanceOrg': 243.17677465400146, 'newbalanceOrig': 2907.9277261777083}\n",
      "Sent data: {'client_id': 'client_8735', 'transaction_id': '372f7f88-3f48-4144-ab67-60da3b87b3c7', 'type': 'TRANSFER', 'amount': 2325.516325330469, 'oldbalanceOrg': 3589.5841942005154, 'newbalanceOrig': 5915.1005195309845}\n"
     ]
    }
   ],
   "source": [
    "import json\n",
    "import random\n",
    "import uuid\n",
    "import time\n",
    "from confluent_kafka import Producer\n",
    "import fastavro\n",
    "from fastavro.schema import load_schema\n",
    "import io\n",
    "\n",
    "# Avro schema (hardcoded)\n",
    "avro_schema = {\n",
    "    \"type\": \"record\",\n",
    "    \"name\": \"CreditTransaction\",\n",
    "    \"namespace\": \"com.fraud.detection\",\n",
    "    \"fields\": [\n",
    "        {\n",
    "            \"name\": \"client_id\",\n",
    "            \"type\": \"string\"\n",
    "        },\n",
    "        {\n",
    "            \"name\": \"transaction_id\",\n",
    "            \"type\": \"string\"\n",
    "        },\n",
    "        {\n",
    "            \"name\": \"type\",\n",
    "            \"type\": [\"string\", \"null\"],\n",
    "            \"default\": None\n",
    "        },\n",
    "        {\n",
    "            \"name\": \"amount\",\n",
    "            \"type\": [\"double\", \"null\"],\n",
    "            \"default\": None\n",
    "        },\n",
    "        {\n",
    "            \"name\": \"oldbalanceOrg\",\n",
    "            \"type\": [\"double\", \"null\"],\n",
    "            \"default\": None\n",
    "        },\n",
    "        {\n",
    "            \"name\": \"newbalanceOrig\",\n",
    "            \"type\": [\"double\", \"null\"],\n",
    "            \"default\": None\n",
    "        }\n",
    "    ]\n",
    "}\n",
    "\n",
    "# Kafka Producer Configuration\n",
    "KAFKA_BROKER = \"host.docker.internal:9092\"  # Replace with your Kafka broker\n",
    "TOPIC = \"raw_credit_data\"  # Kafka topic to send data to\n",
    "\n",
    "# Initialize Kafka producer\n",
    "conf = {\n",
    "    'bootstrap.servers': KAFKA_BROKER,\n",
    "    'acks': 'all',  # Wait for all brokers to acknowledge\n",
    "}\n",
    "\n",
    "producer = Producer(conf)\n",
    "\n",
    "# Generate random test data\n",
    "def generate_test_data():\n",
    "    client_id = f\"client_{random.randint(1000, 9999)}\"\n",
    "    transaction_id = str(uuid.uuid4())\n",
    "    transaction_type = random.choice([None, \"CASH_OUT\", \"DEBIT\", \"TRANSFER\"])\n",
    "    amount = random.uniform(1.0, 10000.0)\n",
    "    old_balance = random.uniform(0.0, 5000.0)\n",
    "    new_balance = old_balance - amount if transaction_type == \"purchase\" else old_balance + amount\n",
    "\n",
    "    return {\n",
    "        \"client_id\": client_id,\n",
    "        \"transaction_id\": transaction_id,\n",
    "        \"type\": transaction_type,\n",
    "        \"amount\": amount,\n",
    "        \"oldbalanceOrg\": old_balance,\n",
    "        \"newbalanceOrig\": new_balance\n",
    "    }\n",
    "\n",
    "# Function to serialize data into Avro format\n",
    "def serialize_avro(data, schema):\n",
    "    with io.BytesIO() as buf:\n",
    "        writer = fastavro.writer(buf, schema, [data])\n",
    "        return buf.getvalue()\n",
    "\n",
    "# Produce data to Kafka\n",
    "def produce_to_kafka():\n",
    "    for _ in range(10):  # Adjust the number of records to send\n",
    "        test_data = generate_test_data()\n",
    "        avro_data = serialize_avro(test_data, avro_schema)\n",
    "        \n",
    "        # Produce message to Kafka\n",
    "        producer.produce(topic=TOPIC, key=test_data[\"transaction_id\"], value=avro_data)\n",
    "        print(f\"Sent data: {test_data}\")\n",
    "        producer.flush()\n",
    "        time.sleep(1)  # Adjust sleep to control message frequency\n",
    "\n",
    "# Start the producer\n",
    "if __name__ == \"__main__\":\n",
    "    produce_to_kafka()\n"
   ]
  },
  {
   "cell_type": "code",
   "execution_count": null,
   "id": "8a9ee010-646b-49ba-8c24-fed9122299ca",
   "metadata": {},
   "outputs": [],
   "source": []
  },
  {
   "cell_type": "code",
   "execution_count": 24,
   "id": "c5c16b11-be37-4e94-999e-2eafc14d3770",
   "metadata": {},
   "outputs": [
    {
     "name": "stdout",
     "output_type": "stream",
     "text": [
      "b'Hello Avro'\n"
     ]
    }
   ],
   "source": [
    "import io\n",
    "\n",
    "binary_data = b'Hello Avro'  # Binary data (mimicking Avro bytes)\n",
    "bytes_io = io.BytesIO(binary_data)  # Create an in-memory file\n",
    "\n",
    "# Read the data back\n",
    "print(bytes_io.read()) "
   ]
  },
  {
   "cell_type": "code",
   "execution_count": null,
   "id": "81897b9a-58f0-414a-b910-f051a44269ec",
   "metadata": {},
   "outputs": [],
   "source": []
  }
 ],
 "metadata": {
  "kernelspec": {
   "display_name": "Python 3 (ipykernel)",
   "language": "python",
   "name": "python3"
  },
  "language_info": {
   "codemirror_mode": {
    "name": "ipython",
    "version": 3
   },
   "file_extension": ".py",
   "mimetype": "text/x-python",
   "name": "python",
   "nbconvert_exporter": "python",
   "pygments_lexer": "ipython3",
   "version": "3.9.2"
  }
 },
 "nbformat": 4,
 "nbformat_minor": 5
}
