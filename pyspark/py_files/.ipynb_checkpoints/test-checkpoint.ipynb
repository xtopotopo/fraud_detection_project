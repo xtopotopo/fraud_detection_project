{
 "cells": [
  {
   "cell_type": "code",
   "execution_count": 6,
   "id": "5d4da5bc-a4ff-49df-84ff-5b0faa6c246d",
   "metadata": {},
   "outputs": [],
   "source": [
    "from pyspark.sql import SparkSession"
   ]
  },
  {
   "cell_type": "code",
   "execution_count": 7,
   "id": "1ca3e4fb-e78a-48fb-923d-36a084cfffc7",
   "metadata": {},
   "outputs": [],
   "source": [
    "spark = SparkSession.builder.appName(\"testApp\").getOrCreate()"
   ]
  },
  {
   "cell_type": "code",
   "execution_count": 8,
   "id": "559fa70f-ef26-4206-a74d-7b6667714976",
   "metadata": {},
   "outputs": [
    {
     "data": {
      "text/html": [
       "\n",
       "            <div>\n",
       "                <p><b>SparkSession - in-memory</b></p>\n",
       "                \n",
       "        <div>\n",
       "            <p><b>SparkContext</b></p>\n",
       "\n",
       "            <p><a href=\"http://aadd036fb974:4040\">Spark UI</a></p>\n",
       "\n",
       "            <dl>\n",
       "              <dt>Version</dt>\n",
       "                <dd><code>v3.5.5</code></dd>\n",
       "              <dt>Master</dt>\n",
       "                <dd><code>local[*]</code></dd>\n",
       "              <dt>AppName</dt>\n",
       "                <dd><code>testApp</code></dd>\n",
       "            </dl>\n",
       "        </div>\n",
       "        \n",
       "            </div>\n",
       "        "
      ],
      "text/plain": [
       "<pyspark.sql.session.SparkSession at 0x7f31e8f83190>"
      ]
     },
     "execution_count": 8,
     "metadata": {},
     "output_type": "execute_result"
    }
   ],
   "source": [
    "spark"
   ]
  },
  {
   "cell_type": "code",
   "execution_count": 94,
   "id": "db9da47b-b043-4e80-84d0-8624711e2921",
   "metadata": {},
   "outputs": [
    {
     "data": {
      "text/plain": [
       "DataFrame[claim_number: int, age_of_driver: int, gender: string, marital_status: double]"
      ]
     },
     "execution_count": 94,
     "metadata": {},
     "output_type": "execute_result"
    }
   ],
   "source": [
    "df_spark=spark.read.csv(\"insuranceFraud.csv\",inferSchema=True,header=True)\n",
    "df_spark"
   ]
  },
  {
   "cell_type": "code",
   "execution_count": 65,
   "id": "3a601e1b-e4e1-47ea-8056-3e5eaddded28",
   "metadata": {},
   "outputs": [
    {
     "name": "stdout",
     "output_type": "stream",
     "text": [
      "+------------+-------------+------+--------------+\n",
      "|claim_number|age_of_driver|gender|marital_status|\n",
      "+------------+-------------+------+--------------+\n",
      "|           0|           50|     F|           1.0|\n",
      "|           1|           47|  NULL|           1.0|\n",
      "|           2|           28|     M|           0.0|\n",
      "|           3|         NULL|     M|           1.0|\n",
      "|           4|           60|     F|           1.0|\n",
      "|           5|           23|     F|          NULL|\n",
      "|           6|           79|     M|           1.0|\n",
      "|           7|           12|     F|           0.0|\n",
      "|           8|         NULL|     M|           1.0|\n",
      "+------------+-------------+------+--------------+\n",
      "\n"
     ]
    }
   ],
   "source": [
    "df_spark.show()"
   ]
  },
  {
   "cell_type": "code",
   "execution_count": 29,
   "id": "ec8a25d7-0a1f-4177-a9b0-30be7472ca76",
   "metadata": {},
   "outputs": [
    {
     "data": {
      "text/plain": [
       "pyspark.sql.dataframe.DataFrame"
      ]
     },
     "execution_count": 29,
     "metadata": {},
     "output_type": "execute_result"
    }
   ],
   "source": [
    "type(df_spark)"
   ]
  },
  {
   "cell_type": "code",
   "execution_count": 30,
   "id": "c38e3360-a7f3-4093-a53e-f8aca05ea860",
   "metadata": {},
   "outputs": [
    {
     "name": "stdout",
     "output_type": "stream",
     "text": [
      "root\n",
      " |-- claim_number: integer (nullable = true)\n",
      " |-- age_of_driver: integer (nullable = true)\n",
      " |-- gender: string (nullable = true)\n",
      " |-- marital_status: double (nullable = true)\n",
      "\n"
     ]
    }
   ],
   "source": [
    "df_spark.printSchema()"
   ]
  },
  {
   "cell_type": "code",
   "execution_count": 31,
   "id": "caa25a61-cedf-496f-adc0-74f223b0acc8",
   "metadata": {},
   "outputs": [
    {
     "data": {
      "text/plain": [
       "['claim_number', 'age_of_driver', 'gender', 'marital_status']"
      ]
     },
     "execution_count": 31,
     "metadata": {},
     "output_type": "execute_result"
    }
   ],
   "source": [
    "df_spark.columns"
   ]
  },
  {
   "cell_type": "code",
   "execution_count": 37,
   "id": "8d55c57b-9895-47f8-8119-8bc7edf5ce62",
   "metadata": {},
   "outputs": [
    {
     "name": "stdout",
     "output_type": "stream",
     "text": [
      "+-------------+------+\n",
      "|age_of_driver|gender|\n",
      "+-------------+------+\n",
      "|           50|     F|\n",
      "|           47|     M|\n",
      "|           28|     M|\n",
      "|           36|     M|\n",
      "|           60|     F|\n",
      "+-------------+------+\n",
      "\n"
     ]
    }
   ],
   "source": [
    "df_spark_reduced=df_spark.select(['age_of_driver','gender'])\n",
    "df_spark_reduced.show()"
   ]
  },
  {
   "cell_type": "code",
   "execution_count": 42,
   "id": "03d1b478-944a-4767-969a-6dcb2cd8c902",
   "metadata": {},
   "outputs": [
    {
     "data": {
      "text/plain": [
       "[('claim_number', 'int'),\n",
       " ('age_of_driver', 'int'),\n",
       " ('gender', 'string'),\n",
       " ('marital_status', 'double')]"
      ]
     },
     "execution_count": 42,
     "metadata": {},
     "output_type": "execute_result"
    }
   ],
   "source": [
    "df_spark.dtypes"
   ]
  },
  {
   "cell_type": "code",
   "execution_count": 46,
   "id": "9e755fae-9415-4c48-a147-79efccee4853",
   "metadata": {},
   "outputs": [
    {
     "name": "stdout",
     "output_type": "stream",
     "text": [
      "+-------+------------------+------------------+\n",
      "|summary|     age_of_driver|    marital_status|\n",
      "+-------+------------------+------------------+\n",
      "|  count|                 5|                 5|\n",
      "|   mean|              44.2|               0.8|\n",
      "| stddev|12.457929201917949|0.4472135954999579|\n",
      "|    min|                28|               0.0|\n",
      "|    max|                60|               1.0|\n",
      "+-------+------------------+------------------+\n",
      "\n"
     ]
    }
   ],
   "source": [
    "df_spark.describe().select(['summary','age_of_driver','marital_status']).show()"
   ]
  },
  {
   "cell_type": "code",
   "execution_count": 53,
   "id": "90c9f784-9297-423a-9220-3782a52837c4",
   "metadata": {},
   "outputs": [
    {
     "name": "stdout",
     "output_type": "stream",
     "text": [
      "+------------+-------------+------+--------------+-----------------+\n",
      "|claim_number|age_of_driver|gender|marital_status|age_after_2_years|\n",
      "+------------+-------------+------+--------------+-----------------+\n",
      "|           0|           50|     F|           1.0|               52|\n",
      "|           1|           47|     M|           1.0|               49|\n",
      "|           2|           28|     M|           0.0|               30|\n",
      "|           3|           36|     M|           1.0|               38|\n",
      "|           4|           60|     F|           1.0|               62|\n",
      "+------------+-------------+------+--------------+-----------------+\n",
      "\n"
     ]
    }
   ],
   "source": [
    "df_spark=df_spark.withColumn(\"age_after_2_years\",df_spark[\"age_of_driver\"]+2)\n",
    "df_spark.show()"
   ]
  },
  {
   "cell_type": "code",
   "execution_count": 55,
   "id": "b965aafa-2895-4030-a723-d962324cf4d9",
   "metadata": {},
   "outputs": [
    {
     "name": "stdout",
     "output_type": "stream",
     "text": [
      "+------------+-------------+------+--------------+\n",
      "|claim_number|age_of_driver|gender|marital_status|\n",
      "+------------+-------------+------+--------------+\n",
      "|           0|           50|     F|           1.0|\n",
      "|           1|           47|     M|           1.0|\n",
      "|           2|           28|     M|           0.0|\n",
      "|           3|           36|     M|           1.0|\n",
      "|           4|           60|     F|           1.0|\n",
      "+------------+-------------+------+--------------+\n",
      "\n"
     ]
    }
   ],
   "source": [
    "drop_columns=['age_after_2_years']\n",
    "for column in drop_columns:   \n",
    "    df_spark=df_spark.drop(column)\n",
    "df_spark.show()"
   ]
  },
  {
   "cell_type": "code",
   "execution_count": 66,
   "id": "f0e07aff-9ac4-47b7-86ad-67db6ee90d5d",
   "metadata": {},
   "outputs": [
    {
     "name": "stdout",
     "output_type": "stream",
     "text": [
      "+------------+----+------+--------------+\n",
      "|claim_number| age|gender|marital_status|\n",
      "+------------+----+------+--------------+\n",
      "|           0|  50|     F|           1.0|\n",
      "|           1|  47|  NULL|           1.0|\n",
      "|           2|  28|     M|           0.0|\n",
      "|           3|NULL|     M|           1.0|\n",
      "|           4|  60|     F|           1.0|\n",
      "|           5|  23|     F|          NULL|\n",
      "|           6|  79|     M|           1.0|\n",
      "|           7|  12|     F|           0.0|\n",
      "|           8|NULL|     M|           1.0|\n",
      "+------------+----+------+--------------+\n",
      "\n"
     ]
    }
   ],
   "source": [
    "rename_dict={\n",
    "    \"age_of_driver\":\"age\"\n",
    "}\n",
    "\n",
    "for old_name,new_name in rename_dict.items():\n",
    "    df_spark=df_spark.withColumnRenamed(old_name,new_name)\n",
    "\n",
    "df_spark.show()"
   ]
  },
  {
   "cell_type": "code",
   "execution_count": 72,
   "id": "2a466efb-ce5e-4042-9f12-a7a85b39d9a4",
   "metadata": {},
   "outputs": [
    {
     "name": "stdout",
     "output_type": "stream",
     "text": [
      "+------------+----+------+--------------+\n",
      "|claim_number| age|gender|marital_status|\n",
      "+------------+----+------+--------------+\n",
      "|           0|  50|     F|           1.0|\n",
      "|           1|  47|  NULL|           1.0|\n",
      "|           2|  28|     M|           0.0|\n",
      "|           3|NULL|     M|           1.0|\n",
      "|           4|  60|     F|           1.0|\n",
      "|           5|  23|     F|          NULL|\n",
      "|           6|  79|     M|           1.0|\n",
      "|           7|  12|     F|           0.0|\n",
      "|           8|NULL|     M|           1.0|\n",
      "+------------+----+------+--------------+\n",
      "\n"
     ]
    }
   ],
   "source": [
    "df_spark.na.drop(how='all',subset=['age','gender']).show()"
   ]
  },
  {
   "cell_type": "code",
   "execution_count": 77,
   "id": "cba33f34-0bd3-48e1-9e69-ebaedc118c32",
   "metadata": {},
   "outputs": [
    {
     "name": "stdout",
     "output_type": "stream",
     "text": [
      "+------------+---+------+--------------+\n",
      "|claim_number|age|gender|marital_status|\n",
      "+------------+---+------+--------------+\n",
      "|           0| 50|     F|           1.0|\n",
      "|           1| 47|  NULL|           1.0|\n",
      "|           2| 28|     M|           0.0|\n",
      "|           3|770|     M|           1.0|\n",
      "|           4| 60|     F|           1.0|\n",
      "|           5| 23|     F|          NULL|\n",
      "|           6| 79|     M|           1.0|\n",
      "|           7| 12|     F|           0.0|\n",
      "|           8|770|     M|           1.0|\n",
      "+------------+---+------+--------------+\n",
      "\n"
     ]
    }
   ],
   "source": [
    "df_spark.na.fill(770,subset=['age','gender']).show()"
   ]
  },
  {
   "cell_type": "code",
   "execution_count": 95,
   "id": "1535785c-dddc-4b26-8de6-97589f51ee92",
   "metadata": {},
   "outputs": [],
   "source": [
    "from pyspark.ml.feature import Imputer\n",
    "\n",
    "inputCols=['age_of_driver','marital_status']\n",
    "outputCols=[\"{}_imputed\".format(c) for c in inputCols]\n",
    "\n",
    "\n",
    "imputer=Imputer(\n",
    "    inputCols=inputCols,\n",
    "    outputCols=outputCols\n",
    ").setStrategy('mean')"
   ]
  },
  {
   "cell_type": "code",
   "execution_count": 96,
   "id": "1ac677d0-bc30-400e-b923-630acd6e96c2",
   "metadata": {},
   "outputs": [
    {
     "name": "stdout",
     "output_type": "stream",
     "text": [
      "+------------+-------------+------+--------------+---------------------+----------------------+\n",
      "|claim_number|age_of_driver|gender|marital_status|age_of_driver_imputed|marital_status_imputed|\n",
      "+------------+-------------+------+--------------+---------------------+----------------------+\n",
      "|           0|           50|     F|           1.0|                   50|                   1.0|\n",
      "|           1|           47|  NULL|           1.0|                   47|                   1.0|\n",
      "|           2|           28|     M|           0.0|                   28|                   0.0|\n",
      "|           3|         NULL|     M|           1.0|                   42|                   1.0|\n",
      "|           4|           60|     F|           1.0|                   60|                   1.0|\n",
      "|           5|           23|     F|          NULL|                   23|                  0.75|\n",
      "|           6|           79|     M|           1.0|                   79|                   1.0|\n",
      "|           7|           12|     F|           0.0|                   12|                   0.0|\n",
      "|           8|         NULL|     M|           1.0|                   42|                   1.0|\n",
      "+------------+-------------+------+--------------+---------------------+----------------------+\n",
      "\n",
      "+------------+------+-------------+--------------+\n",
      "|claim_number|gender|age_of_driver|marital_status|\n",
      "+------------+------+-------------+--------------+\n",
      "|           0|     F|           50|           1.0|\n",
      "|           1|  NULL|           47|           1.0|\n",
      "|           2|     M|           28|           0.0|\n",
      "|           3|     M|           42|           1.0|\n",
      "|           4|     F|           60|           1.0|\n",
      "|           5|     F|           23|          0.75|\n",
      "|           6|     M|           79|           1.0|\n",
      "|           7|     F|           12|           0.0|\n",
      "|           8|     M|           42|           1.0|\n",
      "+------------+------+-------------+--------------+\n",
      "\n"
     ]
    }
   ],
   "source": [
    "imputer=imputer.fit(df_spark)\n",
    "df_spark=imputer.transform(df_spark)\n",
    "df_spark.show()\n",
    "\n",
    "rename_dict={\n",
    "    'age_of_driver_imputed':'age_of_driver',\n",
    "    'marital_status_imputed':'marital_status'\n",
    "}\n",
    "\n",
    "for old_name,new_name in rename_dict.items() :\n",
    "    df_spark=df_spark.drop(new_name)\n",
    "    df_spark=df_spark.withColumnRenamed(old_name,new_name)\n",
    "\n",
    "    \n",
    "df_spark.show() "
   ]
  },
  {
   "cell_type": "code",
   "execution_count": 97,
   "id": "f84e03d4-0d47-448a-acc9-d0df428e0cf0",
   "metadata": {},
   "outputs": [
    {
     "name": "stdout",
     "output_type": "stream",
     "text": [
      "+------------+------+-------------+--------------+\n",
      "|claim_number|gender|age_of_driver|marital_status|\n",
      "+------------+------+-------------+--------------+\n",
      "|           0|     F|           50|           1.0|\n",
      "+------------+------+-------------+--------------+\n",
      "\n"
     ]
    }
   ],
   "source": [
    "df_spark.filter('claim_number = 0').show()"
   ]
  },
  {
   "cell_type": "code",
   "execution_count": 102,
   "id": "9b7765b1-ff31-4732-a124-4655b0b70db3",
   "metadata": {},
   "outputs": [
    {
     "name": "stdout",
     "output_type": "stream",
     "text": [
      "+------------+------+-------------+--------------+\n",
      "|claim_number|gender|age_of_driver|marital_status|\n",
      "+------------+------+-------------+--------------+\n",
      "|           0|     F|           50|           1.0|\n",
      "|           4|     F|           60|           1.0|\n",
      "+------------+------+-------------+--------------+\n",
      "\n"
     ]
    }
   ],
   "source": [
    "df_spark.filter(\n",
    "    (df_spark['age_of_driver']>45) &\n",
    "    (df_spark['gender'] == 'F')\n",
    ").show()"
   ]
  },
  {
   "cell_type": "code",
   "execution_count": 105,
   "id": "2bb6dab8-03c1-4edd-8718-d270e4aeb457",
   "metadata": {},
   "outputs": [
    {
     "name": "stdout",
     "output_type": "stream",
     "text": [
      "+------------+------+-------------+--------------+\n",
      "|claim_number|gender|age_of_driver|marital_status|\n",
      "+------------+------+-------------+--------------+\n",
      "|           4|     F|           60|           1.0|\n",
      "|           6|     M|           79|           1.0|\n",
      "|           7|     F|           12|           0.0|\n",
      "+------------+------+-------------+--------------+\n",
      "\n"
     ]
    }
   ],
   "source": [
    "df_spark.filter(\n",
    "    (df_spark['age_of_driver']>50) |\n",
    "    ((df_spark['gender'] == 'F') & (df_spark['marital_status']==0))\n",
    ").show()"
   ]
  },
  {
   "cell_type": "code",
   "execution_count": null,
   "id": "19b2d36c-adf5-4a70-899b-8307d25ca32a",
   "metadata": {},
   "outputs": [],
   "source": []
  }
 ],
 "metadata": {
  "kernelspec": {
   "display_name": "Python 3 (ipykernel)",
   "language": "python",
   "name": "python3"
  },
  "language_info": {
   "codemirror_mode": {
    "name": "ipython",
    "version": 3
   },
   "file_extension": ".py",
   "mimetype": "text/x-python",
   "name": "python",
   "nbconvert_exporter": "python",
   "pygments_lexer": "ipython3",
   "version": "3.9.2"
  }
 },
 "nbformat": 4,
 "nbformat_minor": 5
}
