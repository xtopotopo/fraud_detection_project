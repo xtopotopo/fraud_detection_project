{
 "cells": [
  {
   "cell_type": "code",
   "execution_count": 7,
   "id": "fff061b6-1c6a-46cb-8c1e-3f52ae98ad84",
   "metadata": {},
   "outputs": [
    {
     "name": "stdout",
     "output_type": "stream",
     "text": [
      "Sent data: {'client_id': 'client_9805', 'transaction_id': '789690f0-b44c-4866-bcf3-5fceb347a59b', 'high_education_ind': None, 'past_num_of_claims': 1, 'gender': 'F', 'address_change_ind': None, 'witness_present_ind': 0, 'marital_status': 0, 'channel': 'Online', 'accident_site': 'Rural', 'living_status': 'Owned', 'vehicle_category': None}\n"
     ]
    }
   ],
   "source": [
    "import json\n",
    "import random\n",
    "import uuid\n",
    "import time\n",
    "from confluent_kafka import Producer\n",
    "import fastavro\n",
    "import io\n",
    "\n",
    "# Schéma Avro\n",
    "insurance_avro_schema = {\n",
    "    \"type\": \"record\",\n",
    "    \"name\": \"InsuranceTransaction\",\n",
    "    \"namespace\": \"com.insurance.data\",\n",
    "    \"fields\": [\n",
    "        {\"name\": \"client_id\", \"type\": \"string\"},\n",
    "        {\"name\": \"transaction_id\", \"type\": \"string\"},\n",
    "        {\"name\": \"high_education_ind\", \"type\": [\"int\", \"null\"], \"default\": None},\n",
    "        {\"name\": \"past_num_of_claims\", \"type\": [\"int\", \"null\"], \"default\": None},\n",
    "        {\"name\": \"gender\", \"type\": [\"string\", \"null\"], \"default\": None},\n",
    "        {\"name\": \"address_change_ind\", \"type\": [\"int\", \"null\"], \"default\": None},\n",
    "        {\"name\": \"witness_present_ind\", \"type\": [\"int\", \"null\"], \"default\": None},\n",
    "        {\"name\": \"marital_status\", \"type\": [\"int\", \"null\"], \"default\": None},\n",
    "        {\"name\": \"channel\", \"type\": [\"string\", \"null\"], \"default\": None},\n",
    "        {\"name\": \"accident_site\", \"type\": [\"string\", \"null\"], \"default\": None},\n",
    "        {\"name\": \"living_status\", \"type\": [\"string\", \"null\"], \"default\": None},\n",
    "        {\"name\": \"vehicle_category\", \"type\": [\"string\", \"null\"], \"default\": None}\n",
    "    ]\n",
    "}\n",
    "\n",
    "# Configuration Kafka\n",
    "KAFKA_BROKER = \"host.docker.internal:9092\"  # Remplace avec l'URL de ton broker Kafka\n",
    "TOPIC = \"raw_insurance_data\"  # Nom du topic Kafka\n",
    "\n",
    "conf = {\n",
    "    'bootstrap.servers': KAFKA_BROKER,\n",
    "    'acks': 'all',  # Attendre l'accusé de réception de tous les brokers\n",
    "}\n",
    "\n",
    "producer = Producer(conf)\n",
    "\n",
    "# Génération de données fictives\n",
    "def generate_test_data():\n",
    "    return {\n",
    "        \"client_id\": f\"client_{random.randint(1000, 9999)}\",\n",
    "        \"transaction_id\": str(uuid.uuid4()),\n",
    "        \"high_education_ind\": random.choice([0, 1, None]),\n",
    "        \"past_num_of_claims\": random.choice([0, 1, 2, 3, None]),\n",
    "        \"gender\": random.choice([\"M\", \"F\", None]),\n",
    "        \"address_change_ind\": random.choice([0, 1, None]),\n",
    "        \"witness_present_ind\": random.choice([0, 1, None]),\n",
    "        \"marital_status\": random.choice([0, 1, None]),  # Exemple : 0 = célibataire, 1 = marié, 2 = divorcé\n",
    "        \"channel\": random.choice([\"Online\", \"Agent\", \"Phone\", None]),\n",
    "        \"accident_site\": random.choice([\"Urban\", \"Rural\", None]),\n",
    "        \"living_status\": random.choice([\"Owned\", \"Rent\", None]),\n",
    "        \"vehicle_category\": random.choice([\"Medium\", \"SUV\", \"Truck\", None])\n",
    "    }\n",
    "\n",
    "# Sérialisation des données en Avro\n",
    "def serialize_avro(data, schema):\n",
    "    with io.BytesIO() as buf:\n",
    "        fastavro.writer(buf, schema, [data])\n",
    "        return buf.getvalue()\n",
    "\n",
    "# Envoi des données à Kafka\n",
    "def produce_to_kafka():\n",
    "    for _ in range(1):  # Nombre de messages à envoyer\n",
    "        test_data = generate_test_data()\n",
    "        avro_data = serialize_avro(test_data, insurance_avro_schema)\n",
    "        \n",
    "        producer.produce(topic=TOPIC, key=test_data[\"transaction_id\"], value=avro_data)\n",
    "        print(f\"Sent data: {test_data}\")\n",
    "        producer.flush()\n",
    "        time.sleep(1)  # Ajuster la fréquence d'envoi\n",
    "\n",
    "# Lancer le producteur\n",
    "if __name__ == \"__main__\":\n",
    "    produce_to_kafka()\n"
   ]
  },
  {
   "cell_type": "code",
   "execution_count": null,
   "id": "fc3b1acc-9a3a-41f6-b8b3-360bc7f3364b",
   "metadata": {},
   "outputs": [],
   "source": []
  }
 ],
 "metadata": {
  "kernelspec": {
   "display_name": "Python 3 (ipykernel)",
   "language": "python",
   "name": "python3"
  },
  "language_info": {
   "codemirror_mode": {
    "name": "ipython",
    "version": 3
   },
   "file_extension": ".py",
   "mimetype": "text/x-python",
   "name": "python",
   "nbconvert_exporter": "python",
   "pygments_lexer": "ipython3",
   "version": "3.9.2"
  }
 },
 "nbformat": 4,
 "nbformat_minor": 5
}
